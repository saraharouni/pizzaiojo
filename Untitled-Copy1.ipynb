{
 "cells": [
  {
   "cell_type": "markdown",
   "id": "70854360",
   "metadata": {},
   "source": [
    "# <center> Projet Pizzaïo’jo</center>"
   ]
  },
  {
   "cell_type": "code",
   "execution_count": 1,
   "id": "c56eadc0",
   "metadata": {},
   "outputs": [],
   "source": [
    "import pandas as pd\n",
    "from datetime import datetime\n",
    "import seaborn as sns\n",
    "import matplotlib.pyplot as plt\n",
    "import statsmodels.formula.api as smf\n",
    "import statsmodels.api as sm"
   ]
  },
  {
   "cell_type": "code",
   "execution_count": 2,
   "id": "1124b11c",
   "metadata": {},
   "outputs": [],
   "source": [
    "df = pd.read_excel('pizza.xlsx')"
   ]
  },
  {
   "cell_type": "code",
   "execution_count": 3,
   "id": "7c417abe",
   "metadata": {
    "scrolled": true
   },
   "outputs": [
    {
     "data": {
      "text/html": [
       "<div>\n",
       "<style scoped>\n",
       "    .dataframe tbody tr th:only-of-type {\n",
       "        vertical-align: middle;\n",
       "    }\n",
       "\n",
       "    .dataframe tbody tr th {\n",
       "        vertical-align: top;\n",
       "    }\n",
       "\n",
       "    .dataframe thead th {\n",
       "        text-align: right;\n",
       "    }\n",
       "</style>\n",
       "<table border=\"1\" class=\"dataframe\">\n",
       "  <thead>\n",
       "    <tr style=\"text-align: right;\">\n",
       "      <th></th>\n",
       "      <th>order_details_id</th>\n",
       "      <th>order_id</th>\n",
       "      <th>pizza_id</th>\n",
       "      <th>quantity</th>\n",
       "      <th>order_date</th>\n",
       "      <th>order_time</th>\n",
       "      <th>unit_price</th>\n",
       "      <th>total_price</th>\n",
       "      <th>pizza_size</th>\n",
       "      <th>pizza_category</th>\n",
       "      <th>pizza_ingredients</th>\n",
       "      <th>pizza_name</th>\n",
       "    </tr>\n",
       "  </thead>\n",
       "  <tbody>\n",
       "    <tr>\n",
       "      <th>0</th>\n",
       "      <td>1</td>\n",
       "      <td>1</td>\n",
       "      <td>hawaiian_m</td>\n",
       "      <td>1</td>\n",
       "      <td>2015-01-01</td>\n",
       "      <td>11:38:36</td>\n",
       "      <td>13.25</td>\n",
       "      <td>13.25</td>\n",
       "      <td>M</td>\n",
       "      <td>Classic</td>\n",
       "      <td>Sliced Ham, Pineapple, Mozzarella Cheese</td>\n",
       "      <td>The Hawaiian Pizza</td>\n",
       "    </tr>\n",
       "    <tr>\n",
       "      <th>1</th>\n",
       "      <td>2</td>\n",
       "      <td>2</td>\n",
       "      <td>classic_dlx_m</td>\n",
       "      <td>1</td>\n",
       "      <td>2015-01-01</td>\n",
       "      <td>11:57:40</td>\n",
       "      <td>16.00</td>\n",
       "      <td>16.00</td>\n",
       "      <td>M</td>\n",
       "      <td>Classic</td>\n",
       "      <td>Pepperoni, Mushrooms, Red Onions, Red Peppers,...</td>\n",
       "      <td>The Classic Deluxe Pizza</td>\n",
       "    </tr>\n",
       "    <tr>\n",
       "      <th>2</th>\n",
       "      <td>3</td>\n",
       "      <td>2</td>\n",
       "      <td>five_cheese_l</td>\n",
       "      <td>1</td>\n",
       "      <td>2015-01-01</td>\n",
       "      <td>11:57:40</td>\n",
       "      <td>18.50</td>\n",
       "      <td>18.50</td>\n",
       "      <td>L</td>\n",
       "      <td>Veggie</td>\n",
       "      <td>Mozzarella Cheese, Provolone Cheese, Smoked Go...</td>\n",
       "      <td>The Five Cheese Pizza</td>\n",
       "    </tr>\n",
       "    <tr>\n",
       "      <th>3</th>\n",
       "      <td>4</td>\n",
       "      <td>2</td>\n",
       "      <td>ital_supr_l</td>\n",
       "      <td>1</td>\n",
       "      <td>2015-01-01</td>\n",
       "      <td>11:57:40</td>\n",
       "      <td>20.75</td>\n",
       "      <td>20.75</td>\n",
       "      <td>L</td>\n",
       "      <td>Supreme</td>\n",
       "      <td>Calabrese Salami, Capocollo, Tomatoes, Red Oni...</td>\n",
       "      <td>The Italian Supreme Pizza</td>\n",
       "    </tr>\n",
       "    <tr>\n",
       "      <th>4</th>\n",
       "      <td>5</td>\n",
       "      <td>2</td>\n",
       "      <td>mexicana_m</td>\n",
       "      <td>1</td>\n",
       "      <td>2015-01-01</td>\n",
       "      <td>11:57:40</td>\n",
       "      <td>16.00</td>\n",
       "      <td>16.00</td>\n",
       "      <td>M</td>\n",
       "      <td>Veggie</td>\n",
       "      <td>Tomatoes, Red Peppers, Jalapeno Peppers, Red O...</td>\n",
       "      <td>The Mexicana Pizza</td>\n",
       "    </tr>\n",
       "  </tbody>\n",
       "</table>\n",
       "</div>"
      ],
      "text/plain": [
       "   order_details_id  order_id       pizza_id  quantity order_date order_time  \\\n",
       "0                 1         1     hawaiian_m         1 2015-01-01   11:38:36   \n",
       "1                 2         2  classic_dlx_m         1 2015-01-01   11:57:40   \n",
       "2                 3         2  five_cheese_l         1 2015-01-01   11:57:40   \n",
       "3                 4         2    ital_supr_l         1 2015-01-01   11:57:40   \n",
       "4                 5         2     mexicana_m         1 2015-01-01   11:57:40   \n",
       "\n",
       "   unit_price  total_price pizza_size pizza_category  \\\n",
       "0       13.25        13.25          M        Classic   \n",
       "1       16.00        16.00          M        Classic   \n",
       "2       18.50        18.50          L         Veggie   \n",
       "3       20.75        20.75          L        Supreme   \n",
       "4       16.00        16.00          M         Veggie   \n",
       "\n",
       "                                   pizza_ingredients  \\\n",
       "0           Sliced Ham, Pineapple, Mozzarella Cheese   \n",
       "1  Pepperoni, Mushrooms, Red Onions, Red Peppers,...   \n",
       "2  Mozzarella Cheese, Provolone Cheese, Smoked Go...   \n",
       "3  Calabrese Salami, Capocollo, Tomatoes, Red Oni...   \n",
       "4  Tomatoes, Red Peppers, Jalapeno Peppers, Red O...   \n",
       "\n",
       "                  pizza_name  \n",
       "0         The Hawaiian Pizza  \n",
       "1   The Classic Deluxe Pizza  \n",
       "2      The Five Cheese Pizza  \n",
       "3  The Italian Supreme Pizza  \n",
       "4         The Mexicana Pizza  "
      ]
     },
     "execution_count": 3,
     "metadata": {},
     "output_type": "execute_result"
    }
   ],
   "source": [
    "df.head()"
   ]
  },
  {
   "cell_type": "code",
   "execution_count": 4,
   "id": "ed7aa915",
   "metadata": {
    "scrolled": true
   },
   "outputs": [
    {
     "name": "stdout",
     "output_type": "stream",
     "text": [
      "<class 'pandas.core.frame.DataFrame'>\n",
      "RangeIndex: 48620 entries, 0 to 48619\n",
      "Data columns (total 12 columns):\n",
      " #   Column             Non-Null Count  Dtype         \n",
      "---  ------             --------------  -----         \n",
      " 0   order_details_id   48620 non-null  int64         \n",
      " 1   order_id           48620 non-null  int64         \n",
      " 2   pizza_id           48620 non-null  object        \n",
      " 3   quantity           48620 non-null  int64         \n",
      " 4   order_date         48620 non-null  datetime64[ns]\n",
      " 5   order_time         48620 non-null  object        \n",
      " 6   unit_price         48620 non-null  float64       \n",
      " 7   total_price        48620 non-null  float64       \n",
      " 8   pizza_size         48620 non-null  object        \n",
      " 9   pizza_category     48620 non-null  object        \n",
      " 10  pizza_ingredients  48620 non-null  object        \n",
      " 11  pizza_name         48620 non-null  object        \n",
      "dtypes: datetime64[ns](1), float64(2), int64(3), object(6)\n",
      "memory usage: 4.5+ MB\n"
     ]
    }
   ],
   "source": [
    "df.info()"
   ]
  },
  {
   "cell_type": "markdown",
   "id": "877ed7f9",
   "metadata": {},
   "source": [
    "Ce premier aperçu de notre jeu de données indique qu'il n'y a pas de valeurs manquantes."
   ]
  },
  {
   "cell_type": "code",
   "execution_count": 5,
   "id": "4a629146",
   "metadata": {
    "scrolled": true
   },
   "outputs": [
    {
     "data": {
      "text/html": [
       "<div>\n",
       "<style scoped>\n",
       "    .dataframe tbody tr th:only-of-type {\n",
       "        vertical-align: middle;\n",
       "    }\n",
       "\n",
       "    .dataframe tbody tr th {\n",
       "        vertical-align: top;\n",
       "    }\n",
       "\n",
       "    .dataframe thead th {\n",
       "        text-align: right;\n",
       "    }\n",
       "</style>\n",
       "<table border=\"1\" class=\"dataframe\">\n",
       "  <thead>\n",
       "    <tr style=\"text-align: right;\">\n",
       "      <th></th>\n",
       "      <th>order_details_id</th>\n",
       "      <th>order_id</th>\n",
       "      <th>quantity</th>\n",
       "      <th>order_date</th>\n",
       "      <th>unit_price</th>\n",
       "      <th>total_price</th>\n",
       "    </tr>\n",
       "  </thead>\n",
       "  <tbody>\n",
       "    <tr>\n",
       "      <th>count</th>\n",
       "      <td>48620.000000</td>\n",
       "      <td>48620.000000</td>\n",
       "      <td>48620.000000</td>\n",
       "      <td>48620</td>\n",
       "      <td>48620.000000</td>\n",
       "      <td>48620.000000</td>\n",
       "    </tr>\n",
       "    <tr>\n",
       "      <th>mean</th>\n",
       "      <td>24310.500000</td>\n",
       "      <td>10701.479761</td>\n",
       "      <td>1.019622</td>\n",
       "      <td>2015-06-29 11:03:43.611682560</td>\n",
       "      <td>16.494132</td>\n",
       "      <td>16.821474</td>\n",
       "    </tr>\n",
       "    <tr>\n",
       "      <th>min</th>\n",
       "      <td>1.000000</td>\n",
       "      <td>1.000000</td>\n",
       "      <td>1.000000</td>\n",
       "      <td>2015-01-01 00:00:00</td>\n",
       "      <td>9.750000</td>\n",
       "      <td>9.750000</td>\n",
       "    </tr>\n",
       "    <tr>\n",
       "      <th>25%</th>\n",
       "      <td>12155.750000</td>\n",
       "      <td>5337.000000</td>\n",
       "      <td>1.000000</td>\n",
       "      <td>2015-03-31 00:00:00</td>\n",
       "      <td>12.750000</td>\n",
       "      <td>12.750000</td>\n",
       "    </tr>\n",
       "    <tr>\n",
       "      <th>50%</th>\n",
       "      <td>24310.500000</td>\n",
       "      <td>10682.500000</td>\n",
       "      <td>1.000000</td>\n",
       "      <td>2015-06-28 00:00:00</td>\n",
       "      <td>16.500000</td>\n",
       "      <td>16.500000</td>\n",
       "    </tr>\n",
       "    <tr>\n",
       "      <th>75%</th>\n",
       "      <td>36465.250000</td>\n",
       "      <td>16100.000000</td>\n",
       "      <td>1.000000</td>\n",
       "      <td>2015-09-28 00:00:00</td>\n",
       "      <td>20.250000</td>\n",
       "      <td>20.500000</td>\n",
       "    </tr>\n",
       "    <tr>\n",
       "      <th>max</th>\n",
       "      <td>48620.000000</td>\n",
       "      <td>21350.000000</td>\n",
       "      <td>4.000000</td>\n",
       "      <td>2015-12-31 00:00:00</td>\n",
       "      <td>35.950000</td>\n",
       "      <td>83.000000</td>\n",
       "    </tr>\n",
       "    <tr>\n",
       "      <th>std</th>\n",
       "      <td>14035.529381</td>\n",
       "      <td>6180.119770</td>\n",
       "      <td>0.143077</td>\n",
       "      <td>NaN</td>\n",
       "      <td>3.621789</td>\n",
       "      <td>4.437398</td>\n",
       "    </tr>\n",
       "  </tbody>\n",
       "</table>\n",
       "</div>"
      ],
      "text/plain": [
       "       order_details_id      order_id      quantity  \\\n",
       "count      48620.000000  48620.000000  48620.000000   \n",
       "mean       24310.500000  10701.479761      1.019622   \n",
       "min            1.000000      1.000000      1.000000   \n",
       "25%        12155.750000   5337.000000      1.000000   \n",
       "50%        24310.500000  10682.500000      1.000000   \n",
       "75%        36465.250000  16100.000000      1.000000   \n",
       "max        48620.000000  21350.000000      4.000000   \n",
       "std        14035.529381   6180.119770      0.143077   \n",
       "\n",
       "                          order_date    unit_price   total_price  \n",
       "count                          48620  48620.000000  48620.000000  \n",
       "mean   2015-06-29 11:03:43.611682560     16.494132     16.821474  \n",
       "min              2015-01-01 00:00:00      9.750000      9.750000  \n",
       "25%              2015-03-31 00:00:00     12.750000     12.750000  \n",
       "50%              2015-06-28 00:00:00     16.500000     16.500000  \n",
       "75%              2015-09-28 00:00:00     20.250000     20.500000  \n",
       "max              2015-12-31 00:00:00     35.950000     83.000000  \n",
       "std                              NaN      3.621789      4.437398  "
      ]
     },
     "execution_count": 5,
     "metadata": {},
     "output_type": "execute_result"
    }
   ],
   "source": [
    "df.describe()"
   ]
  },
  {
   "cell_type": "markdown",
   "id": "2196f3d6",
   "metadata": {},
   "source": [
    "La fonction describe me permet d'obtenir des statistiques de mes variables numériques.  \n",
    "On peut remarquer que les commandes passées contiennent au **minimum 1 pizza et maximum 4 pizzas**.  \n",
    "Il est aussi indiqué que **la pizza la moins chère vaut 9,75€ et la plus chère vaut 35.95€**.  \n",
    "Enfin on remarque aussi que **le montant minumum pour la colonne total_price est de 9.75€ et le montant maximum est de 83€**."
   ]
  },
  {
   "cell_type": "code",
   "execution_count": 6,
   "id": "0dd585f5",
   "metadata": {},
   "outputs": [],
   "source": [
    "# J'extrais l'année, le mois et le jour de ma colonne order_date \n",
    "# et je fusion également dans une nouvelle colonne les colonnes order_date et order_time\n",
    "df['year'] = df['order_date'].dt.year\n",
    "df['month'] = df['order_date'].dt.month\n",
    "df['day'] = df['order_date'].dt.day_name()\n",
    "df['combined_datetime'] = pd.to_datetime(df['order_date'].astype(str) + ' ' + df['order_time'].astype(str))"
   ]
  },
  {
   "cell_type": "code",
   "execution_count": 7,
   "id": "2cb36cdf",
   "metadata": {},
   "outputs": [
    {
     "name": "stdout",
     "output_type": "stream",
     "text": [
      "[ 1  2  3  4  5  6  7  8  9 10 11 12]\n",
      "[2015]\n",
      "['Thursday' 'Friday' 'Saturday' 'Sunday' 'Monday' 'Tuesday' 'Wednesday']\n"
     ]
    }
   ],
   "source": [
    "print(df['month'].unique())\n",
    "print(df['year'].unique())\n",
    "print(df['day'].unique())"
   ]
  },
  {
   "cell_type": "markdown",
   "id": "58a60d0b",
   "metadata": {},
   "source": [
    "Notre jeu de données présente des données de commandes allant du lundi au dimanche.  \n",
    "Or la consigne indique :   \n",
    "***\" Du mardi au vendredi, les clients peuvent se régaler, en se rendant à la sortie métro Joliette entre\n",
    "11h et 21h. \"*** \n",
    "\n",
    "Je décide de retirer de mon dataframe les données de samedi, dimanche, lundi."
   ]
  },
  {
   "cell_type": "markdown",
   "id": "cced11df",
   "metadata": {},
   "source": [
    "ferie = ['Saturday','Sunday','Monday']\n",
    "df.loc[~df['day'].isin(ferie)]['day'].unique()\n"
   ]
  },
  {
   "cell_type": "markdown",
   "id": "7ce7e19c",
   "metadata": {},
   "source": [
    "df = df.loc[~df['day'].isin(ferie),:]"
   ]
  },
  {
   "cell_type": "markdown",
   "id": "42cf97a9",
   "metadata": {},
   "source": [
    "## Informations de base :\n",
    "### a. Combien de pizzas uniques (pizza_id distincts) y a-t-il dans le jeu de données ?"
   ]
  },
  {
   "cell_type": "code",
   "execution_count": 8,
   "id": "e6de987d",
   "metadata": {},
   "outputs": [
    {
     "data": {
      "text/plain": [
       "91"
      ]
     },
     "execution_count": 8,
     "metadata": {},
     "output_type": "execute_result"
    }
   ],
   "source": [
    "df['pizza_id'].nunique()"
   ]
  },
  {
   "cell_type": "markdown",
   "id": "ae2207a3",
   "metadata": {},
   "source": [
    "Il existe **91 types de pizzas uniques** (car une même pizza est proposé sous différentes tailles)."
   ]
  },
  {
   "cell_type": "markdown",
   "id": "1de72917",
   "metadata": {},
   "source": [
    "### b. Combien de commandes uniques (order_id distincts) figurent dans le jeu de données ?"
   ]
  },
  {
   "cell_type": "code",
   "execution_count": 9,
   "id": "c6e95e0e",
   "metadata": {},
   "outputs": [
    {
     "data": {
      "text/plain": [
       "21350"
      ]
     },
     "execution_count": 9,
     "metadata": {},
     "output_type": "execute_result"
    }
   ],
   "source": [
    "df['order_id'].nunique()"
   ]
  },
  {
   "cell_type": "markdown",
   "id": "f5d65567",
   "metadata": {},
   "source": [
    "Le jeu de données compte **12774 commandes passées**."
   ]
  },
  {
   "cell_type": "markdown",
   "id": "27ce18d9",
   "metadata": {},
   "source": [
    "## 3. Analyse temporelle :\n",
    "### a. Quelle est la plage de dates dans le jeu de données ?"
   ]
  },
  {
   "cell_type": "code",
   "execution_count": 10,
   "id": "dfa40523",
   "metadata": {},
   "outputs": [
    {
     "data": {
      "text/plain": [
       "Timestamp('2015-01-01 00:00:00')"
      ]
     },
     "execution_count": 10,
     "metadata": {},
     "output_type": "execute_result"
    }
   ],
   "source": [
    "df['order_date'].min()"
   ]
  },
  {
   "cell_type": "code",
   "execution_count": 11,
   "id": "73c04dea",
   "metadata": {},
   "outputs": [
    {
     "data": {
      "text/plain": [
       "Timestamp('2015-12-31 00:00:00')"
      ]
     },
     "execution_count": 11,
     "metadata": {},
     "output_type": "execute_result"
    }
   ],
   "source": [
    "df['order_date'].max()"
   ]
  },
  {
   "cell_type": "code",
   "execution_count": 12,
   "id": "b845831c",
   "metadata": {},
   "outputs": [
    {
     "data": {
      "text/plain": [
       "datetime.time(9, 52, 21)"
      ]
     },
     "execution_count": 12,
     "metadata": {},
     "output_type": "execute_result"
    }
   ],
   "source": [
    "df['order_time'].min()"
   ]
  },
  {
   "cell_type": "code",
   "execution_count": 13,
   "id": "d9b3f3da",
   "metadata": {
    "scrolled": true
   },
   "outputs": [
    {
     "data": {
      "text/plain": [
       "datetime.time(23, 5, 52)"
      ]
     },
     "execution_count": 13,
     "metadata": {},
     "output_type": "execute_result"
    }
   ],
   "source": [
    "df['order_time'].max()"
   ]
  },
  {
   "cell_type": "markdown",
   "id": "7bad0f6f",
   "metadata": {},
   "source": [
    "**Le jeu de données s'étend entre le 1er janvier 2015 et le 31 décembre 2015 avec comme plage horaire 9h-23h.**\n",
    "\n",
    "On remarque que des commandes sont passées avant et après les horaires d'ouverture et fermeture mais cela peut s'expliquer par un pic d'activité.  \n",
    "C'est la raison pour laquelle je décide de garder ces données."
   ]
  },
  {
   "cell_type": "markdown",
   "id": "0f9c06c4",
   "metadata": {},
   "source": [
    "### b. Combien de commandes ont été passées chaque jour ?"
   ]
  },
  {
   "cell_type": "code",
   "execution_count": 14,
   "id": "ce25ad18",
   "metadata": {
    "scrolled": true
   },
   "outputs": [
    {
     "data": {
      "text/html": [
       "<div>\n",
       "<style scoped>\n",
       "    .dataframe tbody tr th:only-of-type {\n",
       "        vertical-align: middle;\n",
       "    }\n",
       "\n",
       "    .dataframe tbody tr th {\n",
       "        vertical-align: top;\n",
       "    }\n",
       "\n",
       "    .dataframe thead th {\n",
       "        text-align: right;\n",
       "    }\n",
       "</style>\n",
       "<table border=\"1\" class=\"dataframe\">\n",
       "  <thead>\n",
       "    <tr style=\"text-align: right;\">\n",
       "      <th></th>\n",
       "      <th>order_date</th>\n",
       "      <th>order_id</th>\n",
       "    </tr>\n",
       "  </thead>\n",
       "  <tbody>\n",
       "    <tr>\n",
       "      <th>0</th>\n",
       "      <td>2015-01-01</td>\n",
       "      <td>161</td>\n",
       "    </tr>\n",
       "    <tr>\n",
       "      <th>1</th>\n",
       "      <td>2015-01-02</td>\n",
       "      <td>160</td>\n",
       "    </tr>\n",
       "    <tr>\n",
       "      <th>2</th>\n",
       "      <td>2015-01-03</td>\n",
       "      <td>154</td>\n",
       "    </tr>\n",
       "    <tr>\n",
       "      <th>3</th>\n",
       "      <td>2015-01-04</td>\n",
       "      <td>106</td>\n",
       "    </tr>\n",
       "    <tr>\n",
       "      <th>4</th>\n",
       "      <td>2015-01-05</td>\n",
       "      <td>121</td>\n",
       "    </tr>\n",
       "    <tr>\n",
       "      <th>...</th>\n",
       "      <td>...</td>\n",
       "      <td>...</td>\n",
       "    </tr>\n",
       "    <tr>\n",
       "      <th>353</th>\n",
       "      <td>2015-12-27</td>\n",
       "      <td>87</td>\n",
       "    </tr>\n",
       "    <tr>\n",
       "      <th>354</th>\n",
       "      <td>2015-12-28</td>\n",
       "      <td>102</td>\n",
       "    </tr>\n",
       "    <tr>\n",
       "      <th>355</th>\n",
       "      <td>2015-12-29</td>\n",
       "      <td>77</td>\n",
       "    </tr>\n",
       "    <tr>\n",
       "      <th>356</th>\n",
       "      <td>2015-12-30</td>\n",
       "      <td>73</td>\n",
       "    </tr>\n",
       "    <tr>\n",
       "      <th>357</th>\n",
       "      <td>2015-12-31</td>\n",
       "      <td>171</td>\n",
       "    </tr>\n",
       "  </tbody>\n",
       "</table>\n",
       "<p>358 rows × 2 columns</p>\n",
       "</div>"
      ],
      "text/plain": [
       "    order_date  order_id\n",
       "0   2015-01-01       161\n",
       "1   2015-01-02       160\n",
       "2   2015-01-03       154\n",
       "3   2015-01-04       106\n",
       "4   2015-01-05       121\n",
       "..         ...       ...\n",
       "353 2015-12-27        87\n",
       "354 2015-12-28       102\n",
       "355 2015-12-29        77\n",
       "356 2015-12-30        73\n",
       "357 2015-12-31       171\n",
       "\n",
       "[358 rows x 2 columns]"
      ]
     },
     "execution_count": 14,
     "metadata": {},
     "output_type": "execute_result"
    }
   ],
   "source": [
    "df.groupby('order_date')['order_id'].count().reset_index()"
   ]
  },
  {
   "cell_type": "markdown",
   "id": "36a85b79",
   "metadata": {},
   "source": [
    "### c. Quelle est la durée moyenne pour traiter une commande ?"
   ]
  },
  {
   "cell_type": "code",
   "execution_count": 15,
   "id": "846c273e",
   "metadata": {},
   "outputs": [],
   "source": [
    "# Conversion de la colonne order_time au format datetime\n",
    "df['order_time'] = pd.to_datetime(df['order_time'], format=\"%H:%M:%S\")\n",
    "\n",
    "# Fonction pour calculer l'intervalle de temps entre chaque commande\n",
    "def calculate_time_difference(row):\n",
    "    if calculate_time_difference.prev_time is None:\n",
    "        calculate_time_difference.prev_time = row\n",
    "        return pd.Timedelta(0)\n",
    "    else:\n",
    "        time_difference = row - calculate_time_difference.prev_time\n",
    "        calculate_time_difference.prev_time = row\n",
    "        return time_difference\n",
    "\n",
    "# Initialisez la variable statique pour stocker le timestamp précédent\n",
    "calculate_time_difference.prev_time = None\n",
    "\n",
    "# Appliquez la fonction à toute la colonne\n",
    "df['time_difference'] = df['order_time'].apply(calculate_time_difference)\n",
    "\n"
   ]
  },
  {
   "cell_type": "code",
   "execution_count": 16,
   "id": "b7db5dc8",
   "metadata": {},
   "outputs": [
    {
     "data": {
      "text/plain": [
       "order_id\n",
       "1              0 days 00:00:00\n",
       "2       0 days 00:03:48.800000\n",
       "3              0 days 00:07:24\n",
       "4              0 days 00:04:03\n",
       "5              0 days 00:04:59\n",
       "                 ...          \n",
       "21346          0 days 00:01:36\n",
       "21347   0 days 00:05:52.500000\n",
       "21348          0 days 00:02:51\n",
       "21349          0 days 00:46:44\n",
       "21350          0 days 00:52:11\n",
       "Name: time_difference, Length: 21350, dtype: timedelta64[ns]"
      ]
     },
     "execution_count": 16,
     "metadata": {},
     "output_type": "execute_result"
    }
   ],
   "source": [
    "# Je regroupe mes commandes afin d'avoir la moyenne du temps de préparation.\n",
    "df.groupby('order_id')['time_difference'].mean()"
   ]
  },
  {
   "cell_type": "code",
   "execution_count": 17,
   "id": "cadc252c",
   "metadata": {},
   "outputs": [
    {
     "name": "stdout",
     "output_type": "stream",
     "text": [
      "La durée moyenne de traitement d'une commande est de :  0 days 00:05:25.668009367\n"
     ]
    }
   ],
   "source": [
    "print('La durée moyenne de traitement d\\'une commande est de : ',df.groupby('order_id')['time_difference'].max().mean())"
   ]
  },
  {
   "cell_type": "markdown",
   "id": "0bd5f34a",
   "metadata": {},
   "source": [
    "## 4. Analyse de la quantité :\n",
    "### a. Quelle est la quantité moyenne de pizzas commandées ?"
   ]
  },
  {
   "cell_type": "code",
   "execution_count": 18,
   "id": "bc171c19",
   "metadata": {},
   "outputs": [
    {
     "name": "stdout",
     "output_type": "stream",
     "text": [
      "La quantité moyenne de pizzas commandées est: 1.0137464377932761\n"
     ]
    }
   ],
   "source": [
    "print('La quantité moyenne de pizzas commandées est:', df.groupby('order_id')['quantity'].mean().mean())"
   ]
  },
  {
   "cell_type": "markdown",
   "id": "7dc10697",
   "metadata": {},
   "source": [
    "### b. Quelle est la taille de pizza la plus fréquemment commandée ?"
   ]
  },
  {
   "cell_type": "code",
   "execution_count": 19,
   "id": "092fc41d",
   "metadata": {},
   "outputs": [
    {
     "name": "stdout",
     "output_type": "stream",
     "text": [
      "Tailles de pizza proposées : ['M' 'L' 'S' 'XL' 'XXL']\n"
     ]
    }
   ],
   "source": [
    "print(\"Tailles de pizza proposées :\",df['pizza_size'].unique())"
   ]
  },
  {
   "cell_type": "code",
   "execution_count": 20,
   "id": "ac4af261",
   "metadata": {},
   "outputs": [
    {
     "data": {
      "text/html": [
       "<div>\n",
       "<style scoped>\n",
       "    .dataframe tbody tr th:only-of-type {\n",
       "        vertical-align: middle;\n",
       "    }\n",
       "\n",
       "    .dataframe tbody tr th {\n",
       "        vertical-align: top;\n",
       "    }\n",
       "\n",
       "    .dataframe thead th {\n",
       "        text-align: right;\n",
       "    }\n",
       "</style>\n",
       "<table border=\"1\" class=\"dataframe\">\n",
       "  <thead>\n",
       "    <tr style=\"text-align: right;\">\n",
       "      <th></th>\n",
       "      <th>order_details_id</th>\n",
       "      <th>order_id</th>\n",
       "      <th>quantity</th>\n",
       "      <th>order_date</th>\n",
       "      <th>order_time</th>\n",
       "      <th>unit_price</th>\n",
       "      <th>total_price</th>\n",
       "      <th>year</th>\n",
       "      <th>month</th>\n",
       "      <th>combined_datetime</th>\n",
       "      <th>time_difference</th>\n",
       "    </tr>\n",
       "  </thead>\n",
       "  <tbody>\n",
       "    <tr>\n",
       "      <th>count</th>\n",
       "      <td>48620.000000</td>\n",
       "      <td>48620.000000</td>\n",
       "      <td>48620.000000</td>\n",
       "      <td>48620</td>\n",
       "      <td>48620</td>\n",
       "      <td>48620.000000</td>\n",
       "      <td>48620.000000</td>\n",
       "      <td>48620.0</td>\n",
       "      <td>48620.000000</td>\n",
       "      <td>48620</td>\n",
       "      <td>48620</td>\n",
       "    </tr>\n",
       "    <tr>\n",
       "      <th>mean</th>\n",
       "      <td>24310.500000</td>\n",
       "      <td>10701.479761</td>\n",
       "      <td>1.019622</td>\n",
       "      <td>2015-06-29 11:03:43.611682560</td>\n",
       "      <td>1900-01-01 16:24:51.322151424</td>\n",
       "      <td>16.494132</td>\n",
       "      <td>16.821474</td>\n",
       "      <td>2015.0</td>\n",
       "      <td>6.451131</td>\n",
       "      <td>2015-06-30 03:28:34.933833984</td>\n",
       "      <td>0 days 00:00:00.843459481</td>\n",
       "    </tr>\n",
       "    <tr>\n",
       "      <th>min</th>\n",
       "      <td>1.000000</td>\n",
       "      <td>1.000000</td>\n",
       "      <td>1.000000</td>\n",
       "      <td>2015-01-01 00:00:00</td>\n",
       "      <td>1900-01-01 09:52:21</td>\n",
       "      <td>9.750000</td>\n",
       "      <td>9.750000</td>\n",
       "      <td>2015.0</td>\n",
       "      <td>1.000000</td>\n",
       "      <td>2015-01-01 11:38:36</td>\n",
       "      <td>-1 days +11:49:47</td>\n",
       "    </tr>\n",
       "    <tr>\n",
       "      <th>25%</th>\n",
       "      <td>12155.750000</td>\n",
       "      <td>5337.000000</td>\n",
       "      <td>1.000000</td>\n",
       "      <td>2015-03-31 00:00:00</td>\n",
       "      <td>1900-01-01 13:24:46</td>\n",
       "      <td>12.750000</td>\n",
       "      <td>12.750000</td>\n",
       "      <td>2015.0</td>\n",
       "      <td>3.000000</td>\n",
       "      <td>2015-03-31 15:34:31</td>\n",
       "      <td>0 days 00:00:00</td>\n",
       "    </tr>\n",
       "    <tr>\n",
       "      <th>50%</th>\n",
       "      <td>24310.500000</td>\n",
       "      <td>10682.500000</td>\n",
       "      <td>1.000000</td>\n",
       "      <td>2015-06-28 00:00:00</td>\n",
       "      <td>1900-01-01 16:33:33</td>\n",
       "      <td>16.500000</td>\n",
       "      <td>16.500000</td>\n",
       "      <td>2015.0</td>\n",
       "      <td>6.000000</td>\n",
       "      <td>2015-06-28 19:50:30</td>\n",
       "      <td>0 days 00:00:00</td>\n",
       "    </tr>\n",
       "    <tr>\n",
       "      <th>75%</th>\n",
       "      <td>36465.250000</td>\n",
       "      <td>16100.000000</td>\n",
       "      <td>1.000000</td>\n",
       "      <td>2015-09-28 00:00:00</td>\n",
       "      <td>1900-01-01 18:55:19</td>\n",
       "      <td>20.250000</td>\n",
       "      <td>20.500000</td>\n",
       "      <td>2015.0</td>\n",
       "      <td>9.000000</td>\n",
       "      <td>2015-09-28 18:39:55</td>\n",
       "      <td>0 days 00:05:43</td>\n",
       "    </tr>\n",
       "    <tr>\n",
       "      <th>max</th>\n",
       "      <td>48620.000000</td>\n",
       "      <td>21350.000000</td>\n",
       "      <td>4.000000</td>\n",
       "      <td>2015-12-31 00:00:00</td>\n",
       "      <td>1900-01-01 23:05:52</td>\n",
       "      <td>35.950000</td>\n",
       "      <td>83.000000</td>\n",
       "      <td>2015.0</td>\n",
       "      <td>12.000000</td>\n",
       "      <td>2015-12-31 23:02:05</td>\n",
       "      <td>0 days 02:19:15</td>\n",
       "    </tr>\n",
       "    <tr>\n",
       "      <th>std</th>\n",
       "      <td>14035.529381</td>\n",
       "      <td>6180.119770</td>\n",
       "      <td>0.143077</td>\n",
       "      <td>NaN</td>\n",
       "      <td>NaN</td>\n",
       "      <td>3.621789</td>\n",
       "      <td>4.437398</td>\n",
       "      <td>0.0</td>\n",
       "      <td>3.435420</td>\n",
       "      <td>NaN</td>\n",
       "      <td>0 days 00:56:24.735331391</td>\n",
       "    </tr>\n",
       "  </tbody>\n",
       "</table>\n",
       "</div>"
      ],
      "text/plain": [
       "       order_details_id      order_id      quantity  \\\n",
       "count      48620.000000  48620.000000  48620.000000   \n",
       "mean       24310.500000  10701.479761      1.019622   \n",
       "min            1.000000      1.000000      1.000000   \n",
       "25%        12155.750000   5337.000000      1.000000   \n",
       "50%        24310.500000  10682.500000      1.000000   \n",
       "75%        36465.250000  16100.000000      1.000000   \n",
       "max        48620.000000  21350.000000      4.000000   \n",
       "std        14035.529381   6180.119770      0.143077   \n",
       "\n",
       "                          order_date                     order_time  \\\n",
       "count                          48620                          48620   \n",
       "mean   2015-06-29 11:03:43.611682560  1900-01-01 16:24:51.322151424   \n",
       "min              2015-01-01 00:00:00            1900-01-01 09:52:21   \n",
       "25%              2015-03-31 00:00:00            1900-01-01 13:24:46   \n",
       "50%              2015-06-28 00:00:00            1900-01-01 16:33:33   \n",
       "75%              2015-09-28 00:00:00            1900-01-01 18:55:19   \n",
       "max              2015-12-31 00:00:00            1900-01-01 23:05:52   \n",
       "std                              NaN                            NaN   \n",
       "\n",
       "         unit_price   total_price     year         month  \\\n",
       "count  48620.000000  48620.000000  48620.0  48620.000000   \n",
       "mean      16.494132     16.821474   2015.0      6.451131   \n",
       "min        9.750000      9.750000   2015.0      1.000000   \n",
       "25%       12.750000     12.750000   2015.0      3.000000   \n",
       "50%       16.500000     16.500000   2015.0      6.000000   \n",
       "75%       20.250000     20.500000   2015.0      9.000000   \n",
       "max       35.950000     83.000000   2015.0     12.000000   \n",
       "std        3.621789      4.437398      0.0      3.435420   \n",
       "\n",
       "                   combined_datetime            time_difference  \n",
       "count                          48620                      48620  \n",
       "mean   2015-06-30 03:28:34.933833984  0 days 00:00:00.843459481  \n",
       "min              2015-01-01 11:38:36          -1 days +11:49:47  \n",
       "25%              2015-03-31 15:34:31            0 days 00:00:00  \n",
       "50%              2015-06-28 19:50:30            0 days 00:00:00  \n",
       "75%              2015-09-28 18:39:55            0 days 00:05:43  \n",
       "max              2015-12-31 23:02:05            0 days 02:19:15  \n",
       "std                              NaN  0 days 00:56:24.735331391  "
      ]
     },
     "execution_count": 20,
     "metadata": {},
     "output_type": "execute_result"
    }
   ],
   "source": [
    "df.describe()"
   ]
  },
  {
   "cell_type": "code",
   "execution_count": 21,
   "id": "9facc13b",
   "metadata": {},
   "outputs": [
    {
     "data": {
      "text/plain": [
       "pizza_size\n",
       "L      18526\n",
       "M      15385\n",
       "S      14137\n",
       "XL       544\n",
       "XXL       28\n",
       "Name: count, dtype: int64"
      ]
     },
     "execution_count": 21,
     "metadata": {},
     "output_type": "execute_result"
    }
   ],
   "source": [
    "df['pizza_size'].value_counts()"
   ]
  },
  {
   "cell_type": "code",
   "execution_count": 22,
   "id": "63f431b3",
   "metadata": {},
   "outputs": [
    {
     "data": {
      "image/png": "[encoded data removed]",
      "text/plain": [
       "<Figure size 1000x600 with 1 Axes>"
      ]
     },
     "metadata": {},
     "output_type": "display_data"
    }
   ],
   "source": [
    "plt.figure(figsize=(10, 6))\n",
    "ax = sns.countplot(data=df,x=df['pizza_size'])\n",
    "ax.bar_label(ax.containers[0])\n",
    "plt.title('Nombre de commandes par taille de pizza')\n",
    "plt.show()"
   ]
  },
  {
   "cell_type": "markdown",
   "id": "b264dfec",
   "metadata": {},
   "source": [
    "La taille de pizza la plus fréquemment commandée est la taille **\"L\"**."
   ]
  },
  {
   "cell_type": "markdown",
   "id": "e76213f2",
   "metadata": {},
   "source": [
    "### c. Quelle est la catégorie de pizza la plus fréquemment commandée ?"
   ]
  },
  {
   "cell_type": "code",
   "execution_count": 23,
   "id": "347add10",
   "metadata": {
    "scrolled": true
   },
   "outputs": [
    {
     "name": "stdout",
     "output_type": "stream",
     "text": [
      "Liste des catégories de pizza: ['Classic' 'Veggie' 'Supreme' 'Chicken']\n"
     ]
    }
   ],
   "source": [
    "print(\"Liste des catégories de pizza:\",df['pizza_category'].unique())"
   ]
  },
  {
   "cell_type": "code",
   "execution_count": 24,
   "id": "32147a72",
   "metadata": {},
   "outputs": [
    {
     "data": {
      "text/plain": [
       "pizza_category\n",
       "Classic    14579\n",
       "Supreme    11777\n",
       "Veggie     11449\n",
       "Chicken    10815\n",
       "Name: count, dtype: int64"
      ]
     },
     "execution_count": 24,
     "metadata": {},
     "output_type": "execute_result"
    }
   ],
   "source": [
    "df['pizza_category'].value_counts()"
   ]
  },
  {
   "cell_type": "code",
   "execution_count": 25,
   "id": "ca16b20e",
   "metadata": {},
   "outputs": [
    {
     "data": {
      "image/png": "[encoded data removed]",
      "text/plain": [
       "<Figure size 1000x600 with 1 Axes>"
      ]
     },
     "metadata": {},
     "output_type": "display_data"
    }
   ],
   "source": [
    "plt.figure(figsize=(10, 6))\n",
    "ax_1 = sns.countplot(data=df,x=df['pizza_category'])\n",
    "ax_1.bar_label(ax_1.containers[0])\n",
    "plt.title('Nombre de commandes par catégorie de pizza')\n",
    "plt.show()"
   ]
  },
  {
   "cell_type": "markdown",
   "id": "53c0a7a8",
   "metadata": {},
   "source": [
    "La catégorie de pizza la plus commandée est la **Classic**."
   ]
  },
  {
   "cell_type": "markdown",
   "id": "7ba35510",
   "metadata": {},
   "source": [
    "## 5. Analyse des prix :\n",
    "### a. Quel est le prix unitaire moyen des pizzas ?"
   ]
  },
  {
   "cell_type": "code",
   "execution_count": 26,
   "id": "20fc6ee0",
   "metadata": {
    "scrolled": true
   },
   "outputs": [
    {
     "name": "stdout",
     "output_type": "stream",
     "text": [
      "Prix moyen d'une pizza classé par catégorie et par taille\n"
     ]
    },
    {
     "data": {
      "text/plain": [
       "pizza_category  pizza_size\n",
       "Classic         S             11.38\n",
       "Veggie          S             12.16\n",
       "Chicken         S             12.75\n",
       "Supreme         S             14.05\n",
       "Classic         M             14.74\n",
       "Veggie          M             15.94\n",
       "Supreme         M             16.43\n",
       "Chicken         M             16.75\n",
       "Classic         L             18.38\n",
       "Veggie          L             19.30\n",
       "Supreme         L             20.65\n",
       "Chicken         L             20.75\n",
       "Classic         XL            25.50\n",
       "                XXL           35.95\n",
       "Name: unit_price, dtype: float64"
      ]
     },
     "execution_count": 26,
     "metadata": {},
     "output_type": "execute_result"
    }
   ],
   "source": [
    "print(\"Prix moyen d'une pizza classé par catégorie et par taille\")\n",
    "round(df.groupby(['pizza_category','pizza_size'])['unit_price'].mean().sort_values(),2)"
   ]
  },
  {
   "cell_type": "code",
   "execution_count": 27,
   "id": "cf0d778e",
   "metadata": {},
   "outputs": [
    {
     "data": {
      "image/png": "[encoded data removed]",
      "text/plain": [
       "<Figure size 1000x600 with 1 Axes>"
      ]
     },
     "metadata": {},
     "output_type": "display_data"
    }
   ],
   "source": [
    "df['pizza_cat_size'] = df['pizza_category'] + '_' + df['pizza_size']\n",
    "df_pizza_unite = round(df.groupby('pizza_cat_size')['unit_price'].mean().sort_values(), 2).reset_index()\n",
    "df_pizza_unite.columns = ['pizza_cat_size', 'Moyenne prix unitaire']\n",
    "\n",
    "\n",
    "plt.figure(figsize=(10, 6))\n",
    "ax_2=sns.barplot(data=df_pizza_unite,y=df_pizza_unite['pizza_cat_size'], x=df_pizza_unite['Moyenne prix unitaire'],orient= \"h\")\n",
    "ax_2.bar_label(ax_2.containers[0])\n",
    "\n",
    "plt.xlabel('Pizza (Catégorie_Taille)')\n",
    "plt.ylabel('Moyenne prix unitaire')\n",
    "plt.title('Moyenne des prix unitaires par pizza')\n",
    "\n",
    "plt.show()"
   ]
  },
  {
   "cell_type": "code",
   "execution_count": 28,
   "id": "e900b8ca",
   "metadata": {},
   "outputs": [
    {
     "name": "stdout",
     "output_type": "stream",
     "text": [
      "Prix moyen d'une pizza (categories et tailles confondues) : 16.49\n"
     ]
    }
   ],
   "source": [
    "print(\"Prix moyen d'une pizza (categories et tailles confondues) :\",round(df['unit_price'].mean(),2))"
   ]
  },
  {
   "cell_type": "markdown",
   "id": "f91d5631",
   "metadata": {},
   "source": [
    "### b. Quel est le prix total moyen d'une commande ?"
   ]
  },
  {
   "cell_type": "code",
   "execution_count": 29,
   "id": "2aa8335f",
   "metadata": {},
   "outputs": [
    {
     "data": {
      "text/plain": [
       "16.73"
      ]
     },
     "execution_count": 29,
     "metadata": {},
     "output_type": "execute_result"
    }
   ],
   "source": [
    "round(df.groupby('order_id')['total_price'].mean().mean(),2)"
   ]
  },
  {
   "cell_type": "markdown",
   "id": "0b784890",
   "metadata": {},
   "source": [
    "### c. Quelle pizza a le prix unitaire le plus élevé ?"
   ]
  },
  {
   "cell_type": "code",
   "execution_count": 30,
   "id": "406f08e2",
   "metadata": {},
   "outputs": [
    {
     "data": {
      "text/html": [
       "<div>\n",
       "<style scoped>\n",
       "    .dataframe tbody tr th:only-of-type {\n",
       "        vertical-align: middle;\n",
       "    }\n",
       "\n",
       "    .dataframe tbody tr th {\n",
       "        vertical-align: top;\n",
       "    }\n",
       "\n",
       "    .dataframe thead th {\n",
       "        text-align: right;\n",
       "    }\n",
       "</style>\n",
       "<table border=\"1\" class=\"dataframe\">\n",
       "  <thead>\n",
       "    <tr style=\"text-align: right;\">\n",
       "      <th></th>\n",
       "      <th>pizza_name</th>\n",
       "      <th>pizza_size</th>\n",
       "      <th>unit_price</th>\n",
       "    </tr>\n",
       "  </thead>\n",
       "  <tbody>\n",
       "    <tr>\n",
       "      <th>3447</th>\n",
       "      <td>The Greek Pizza</td>\n",
       "      <td>XXL</td>\n",
       "      <td>35.95</td>\n",
       "    </tr>\n",
       "  </tbody>\n",
       "</table>\n",
       "</div>"
      ],
      "text/plain": [
       "           pizza_name pizza_size  unit_price\n",
       "3447  The Greek Pizza        XXL       35.95"
      ]
     },
     "execution_count": 30,
     "metadata": {},
     "output_type": "execute_result"
    }
   ],
   "source": [
    "df.loc[df['unit_price']==df['unit_price'].max()][['pizza_name','pizza_size','unit_price']].head(1)"
   ]
  },
  {
   "cell_type": "markdown",
   "id": "8a3c7b62",
   "metadata": {},
   "source": [
    "## 6. Répartition par taille et catégorie :\n",
    "### a. Combien de pizzas de chaque taille ont été vendues ?"
   ]
  },
  {
   "cell_type": "code",
   "execution_count": 31,
   "id": "d0602610",
   "metadata": {},
   "outputs": [
    {
     "data": {
      "text/plain": [
       "pizza_size\n",
       "L      18956\n",
       "M      15635\n",
       "S      14403\n",
       "XL       552\n",
       "XXL       28\n",
       "Name: quantity, dtype: int64"
      ]
     },
     "execution_count": 31,
     "metadata": {},
     "output_type": "execute_result"
    }
   ],
   "source": [
    "df.groupby(['pizza_size'])['quantity'].sum()"
   ]
  },
  {
   "cell_type": "code",
   "execution_count": 32,
   "id": "4a4e75c1",
   "metadata": {},
   "outputs": [
    {
     "data": {
      "image/png": "[encoded data removed]",
      "text/plain": [
       "<Figure size 1000x600 with 1 Axes>"
      ]
     },
     "metadata": {},
     "output_type": "display_data"
    }
   ],
   "source": [
    "df_pizza_taille = df.groupby(['pizza_size'])['quantity'].sum().reset_index()\n",
    "label = df_pizza_taille['pizza_size'].unique()\n",
    "plt.figure(figsize=(10, 6))\n",
    "ax_3=sns.barplot(data=df_pizza_taille,x=df_pizza_taille['pizza_size'], y=df_pizza_taille['quantity'],label=label)\n",
    "ax_3.bar_label(ax_3.containers[0])\n",
    "plt.legend()\n",
    "plt.xlabel('Taille)')\n",
    "plt.ylabel('Quantité')\n",
    "plt.title('Pizzas vendues / Taille')\n",
    "\n",
    "plt.show()"
   ]
  },
  {
   "cell_type": "markdown",
   "id": "d204127a",
   "metadata": {},
   "source": [
    "### b. Combien de pizzas y a-t-il dans chaque catégorie ?"
   ]
  },
  {
   "cell_type": "code",
   "execution_count": 33,
   "id": "5955ce8c",
   "metadata": {},
   "outputs": [
    {
     "data": {
      "image/png": "[encoded data removed]",
      "text/plain": [
       "<Figure size 1000x600 with 1 Axes>"
      ]
     },
     "metadata": {},
     "output_type": "display_data"
    }
   ],
   "source": [
    "pie = df.groupby(['pizza_category'])['pizza_name'].nunique().reset_index()\n",
    "pie_label = pie['pizza_category'].unique()\n",
    "\n",
    "plt.figure(figsize=(10, 6))\n",
    "ax_4=sns.barplot(data=pie,x=pie['pizza_category'], y=pie['pizza_name'],label=pie_label)\n",
    "ax_4.bar_label(ax_4.containers[0])\n",
    "\n",
    "plt.legend()\n",
    "plt.xlabel('Catégorie)')\n",
    "plt.ylabel('Quantité')\n",
    "plt.title('Nombre de pizzas par catégories')\n",
    "\n",
    "plt.show()"
   ]
  },
  {
   "cell_type": "markdown",
   "id": "ce3947c2",
   "metadata": {},
   "source": [
    "## 7. Analyse des ingrédients :\n",
    "### a. Quels sont les ingrédients les plus couramment utilisés dans toutes les pizzas ?"
   ]
  },
  {
   "cell_type": "code",
   "execution_count": 34,
   "id": "de2d1de0",
   "metadata": {},
   "outputs": [
    {
     "name": "stdout",
     "output_type": "stream",
     "text": [
      "Top 5 des ingrédients les plus utilisés :  pizza_ingredients\n",
      "Garlic               27422\n",
      "Tomatoes             26601\n",
      "Red Onions           19547\n",
      "Red Peppers          16284\n",
      "Mozzarella Cheese    10333\n",
      "Pepperoni            10300\n",
      "Spinach              10012\n",
      "Mushrooms             9624\n",
      "Chicken               8443\n",
      "Capocollo             6572\n",
      "Name: count, dtype: int64\n"
     ]
    }
   ],
   "source": [
    "# Utiliser explode pour séparer les listes d'ingrédients\n",
    "df_exploded = df['pizza_ingredients'].str.split(', ').explode()\n",
    "\n",
    "# Utiliser value_counts pour compter les occurrences de chaque ingrédient\n",
    "ingredient_counts = df_exploded.value_counts()\n",
    "\n",
    "# Afficher les résultats\n",
    "print(\"Top 5 des ingrédients les plus utilisés : \",ingredient_counts[:10])"
   ]
  },
  {
   "cell_type": "markdown",
   "id": "39df0448",
   "metadata": {},
   "source": [
    "### b. Combien de pizzas contiennent un ingrédient spécifique (par exemple,pepperoni, champignons) ?"
   ]
  },
  {
   "cell_type": "code",
   "execution_count": 35,
   "id": "93b6cb6b",
   "metadata": {},
   "outputs": [
    {
     "name": "stdout",
     "output_type": "stream",
     "text": [
      "Nombre de pizza(s): 7\n",
      "Liste des noms de pizzas contenant Mushrooms : ['The Classic Deluxe Pizza' 'The Green Garden Pizza'\n",
      " 'The Vegetables + Vegetables Pizza' 'The Soppressata Pizza'\n",
      " 'The Spinach and Feta Pizza' 'The Chicken Alfredo Pizza'\n",
      " 'The Pepperoni, Mushroom, and Peppers Pizza']\n"
     ]
    }
   ],
   "source": [
    "ingredient = 'Mushrooms'\n",
    "result = df.loc[df['pizza_ingredients'].str.contains(ingredient)]\n",
    "unique_pizza_names = result['pizza_name'].unique()\n",
    "print(\"Nombre de pizza(s):\",result['pizza_name'].nunique())\n",
    "print(\"Liste des noms de pizzas contenant\",ingredient,\":\", unique_pizza_names)"
   ]
  },
  {
   "cell_type": "markdown",
   "id": "b961f22f",
   "metadata": {},
   "source": [
    "## 8. Détails de la commande :\n",
    "### a. Quelle est la répartition du nombre de pizzas par commande ?"
   ]
  },
  {
   "cell_type": "code",
   "execution_count": 36,
   "id": "767ec964",
   "metadata": {
    "scrolled": true
   },
   "outputs": [
    {
     "data": {
      "text/html": [
       "<div>\n",
       "<style scoped>\n",
       "    .dataframe tbody tr th:only-of-type {\n",
       "        vertical-align: middle;\n",
       "    }\n",
       "\n",
       "    .dataframe tbody tr th {\n",
       "        vertical-align: top;\n",
       "    }\n",
       "\n",
       "    .dataframe thead th {\n",
       "        text-align: right;\n",
       "    }\n",
       "</style>\n",
       "<table border=\"1\" class=\"dataframe\">\n",
       "  <thead>\n",
       "    <tr style=\"text-align: right;\">\n",
       "      <th></th>\n",
       "      <th>quantity</th>\n",
       "      <th>proportion</th>\n",
       "    </tr>\n",
       "  </thead>\n",
       "  <tbody>\n",
       "    <tr>\n",
       "      <th>0</th>\n",
       "      <td>1</td>\n",
       "      <td>0.3799</td>\n",
       "    </tr>\n",
       "    <tr>\n",
       "      <th>1</th>\n",
       "      <td>2</td>\n",
       "      <td>0.2881</td>\n",
       "    </tr>\n",
       "    <tr>\n",
       "      <th>2</th>\n",
       "      <td>3</td>\n",
       "      <td>0.1502</td>\n",
       "    </tr>\n",
       "    <tr>\n",
       "      <th>3</th>\n",
       "      <td>4</td>\n",
       "      <td>0.1462</td>\n",
       "    </tr>\n",
       "    <tr>\n",
       "      <th>4</th>\n",
       "      <td>5</td>\n",
       "      <td>0.0068</td>\n",
       "    </tr>\n",
       "    <tr>\n",
       "      <th>5</th>\n",
       "      <td>6</td>\n",
       "      <td>0.0037</td>\n",
       "    </tr>\n",
       "    <tr>\n",
       "      <th>6</th>\n",
       "      <td>8</td>\n",
       "      <td>0.0031</td>\n",
       "    </tr>\n",
       "    <tr>\n",
       "      <th>7</th>\n",
       "      <td>14</td>\n",
       "      <td>0.0031</td>\n",
       "    </tr>\n",
       "    <tr>\n",
       "      <th>8</th>\n",
       "      <td>9</td>\n",
       "      <td>0.0030</td>\n",
       "    </tr>\n",
       "    <tr>\n",
       "      <th>9</th>\n",
       "      <td>7</td>\n",
       "      <td>0.0029</td>\n",
       "    </tr>\n",
       "    <tr>\n",
       "      <th>10</th>\n",
       "      <td>15</td>\n",
       "      <td>0.0027</td>\n",
       "    </tr>\n",
       "    <tr>\n",
       "      <th>11</th>\n",
       "      <td>10</td>\n",
       "      <td>0.0026</td>\n",
       "    </tr>\n",
       "    <tr>\n",
       "      <th>12</th>\n",
       "      <td>11</td>\n",
       "      <td>0.0026</td>\n",
       "    </tr>\n",
       "    <tr>\n",
       "      <th>13</th>\n",
       "      <td>12</td>\n",
       "      <td>0.0025</td>\n",
       "    </tr>\n",
       "    <tr>\n",
       "      <th>14</th>\n",
       "      <td>13</td>\n",
       "      <td>0.0023</td>\n",
       "    </tr>\n",
       "    <tr>\n",
       "      <th>15</th>\n",
       "      <td>25</td>\n",
       "      <td>0.0000</td>\n",
       "    </tr>\n",
       "    <tr>\n",
       "      <th>16</th>\n",
       "      <td>28</td>\n",
       "      <td>0.0000</td>\n",
       "    </tr>\n",
       "  </tbody>\n",
       "</table>\n",
       "</div>"
      ],
      "text/plain": [
       "    quantity  proportion\n",
       "0          1      0.3799\n",
       "1          2      0.2881\n",
       "2          3      0.1502\n",
       "3          4      0.1462\n",
       "4          5      0.0068\n",
       "5          6      0.0037\n",
       "6          8      0.0031\n",
       "7         14      0.0031\n",
       "8          9      0.0030\n",
       "9          7      0.0029\n",
       "10        15      0.0027\n",
       "11        10      0.0026\n",
       "12        11      0.0026\n",
       "13        12      0.0025\n",
       "14        13      0.0023\n",
       "15        25      0.0000\n",
       "16        28      0.0000"
      ]
     },
     "execution_count": 36,
     "metadata": {},
     "output_type": "execute_result"
    }
   ],
   "source": [
    "df_repartition = round(df.groupby('order_id')['quantity'].sum().value_counts(normalize=True),4).reset_index()\n",
    "df_repartition.sort_values('proportion',ascending=False)"
   ]
  },
  {
   "cell_type": "code",
   "execution_count": 37,
   "id": "8b664ba5",
   "metadata": {},
   "outputs": [
    {
     "data": {
      "image/png": "[encoded data removed]",
      "text/plain": [
       "<Figure size 640x480 with 1 Axes>"
      ]
     },
     "metadata": {},
     "output_type": "display_data"
    }
   ],
   "source": [
    "df_pie = df.groupby('order_id')['quantity'].sum().value_counts().to_dict()\n",
    "df_pie = dict(list(df_pie.items())[:5])\n",
    "\n",
    "plt.pie(df_pie.values(), labels=df_pie.keys(),autopct='%.1f%%')\n",
    "plt.title('Proportion des quantités / commande')        \n",
    "plt.show()"
   ]
  },
  {
   "cell_type": "markdown",
   "id": "c4d3741f",
   "metadata": {},
   "source": [
    "### b. Quelle est la répartition des prix totaux pour les commandes ?"
   ]
  },
  {
   "cell_type": "code",
   "execution_count": 38,
   "id": "a6b1edcd",
   "metadata": {},
   "outputs": [
    {
     "data": {
      "text/plain": [
       "count    48620.000000\n",
       "mean        16.821474\n",
       "std          4.437398\n",
       "min          9.750000\n",
       "25%         12.750000\n",
       "50%         16.500000\n",
       "75%         20.500000\n",
       "max         83.000000\n",
       "Name: total_price, dtype: float64"
      ]
     },
     "execution_count": 38,
     "metadata": {},
     "output_type": "execute_result"
    }
   ],
   "source": [
    "df['total_price'].describe()"
   ]
  },
  {
   "cell_type": "code",
   "execution_count": 39,
   "id": "58aa1fb4",
   "metadata": {},
   "outputs": [
    {
     "data": {
      "text/plain": [
       "<Axes: >"
      ]
     },
     "execution_count": 39,
     "metadata": {},
     "output_type": "execute_result"
    },
    {
     "data": {
      "image/png": "[encoded data removed]",
      "text/plain": [
       "<Figure size 640x480 with 1 Axes>"
      ]
     },
     "metadata": {},
     "output_type": "display_data"
    }
   ],
   "source": [
    "sns.boxplot(df['total_price'])"
   ]
  },
  {
   "cell_type": "markdown",
   "id": "e903c025",
   "metadata": {},
   "source": [
    "## 9. Analyse du chiffre d’affaires en fonction du temps :\n",
    "### a. Quel est le chiffre d'affaires quotidien ?"
   ]
  },
  {
   "cell_type": "code",
   "execution_count": 40,
   "id": "b6d76e64",
   "metadata": {
    "scrolled": true
   },
   "outputs": [
    {
     "data": {
      "text/plain": [
       "order_date\n",
       "2015-01-01    2713.85\n",
       "2015-01-02    2731.90\n",
       "2015-01-03    2662.40\n",
       "2015-01-04    1755.45\n",
       "2015-01-05    2065.95\n",
       "               ...   \n",
       "2015-12-27    1419.00\n",
       "2015-12-28    1637.20\n",
       "2015-12-29    1353.25\n",
       "2015-12-30    1337.80\n",
       "2015-12-31    2916.00\n",
       "Name: total_price, Length: 358, dtype: float64"
      ]
     },
     "execution_count": 40,
     "metadata": {},
     "output_type": "execute_result"
    }
   ],
   "source": [
    "df.groupby(['order_date'])['total_price'].sum()"
   ]
  },
  {
   "cell_type": "markdown",
   "id": "7edce82d",
   "metadata": {},
   "source": [
    "### b. Y a-t-il une corrélation entre l'heure de la journée et le total de la commande ?"
   ]
  },
  {
   "cell_type": "markdown",
   "id": "6c60b669",
   "metadata": {},
   "source": [
    "Pour pouvoir vérifier si l'heure est corrélée au montant du chiffre d'affaires de la journée, il faut effectuer un test de corrélation. Ce test ne peut être cohérant que si les données suivent une loi normale.  \n",
    "Pour vérifier cela, je réalise un histogramme de ma variable.  \n",
    "Dans notre cas, je vais extraire les heures de la colonne **order_time** et réaliser une ANOVA (Analyse de la variance)."
   ]
  },
  {
   "cell_type": "code",
   "execution_count": 41,
   "id": "f661b146",
   "metadata": {},
   "outputs": [],
   "source": [
    "df['hours'] = df['order_time'].dt.hour"
   ]
  },
  {
   "cell_type": "code",
   "execution_count": 42,
   "id": "aacfa11b",
   "metadata": {},
   "outputs": [
    {
     "data": {
      "image/png": "[encoded data removed]",
      "text/plain": [
       "<Figure size 1000x600 with 1 Axes>"
      ]
     },
     "metadata": {},
     "output_type": "display_data"
    }
   ],
   "source": [
    "plt.figure(figsize=(10, 6))\n",
    "ax_5=sns.histplot(df,x=df['hours'].astype(\"category\"), kde=True)\n",
    "ax_5.bar_label(ax_5.containers[0])\n",
    "\n",
    "plt.xlabel('Catégorie)')\n",
    "plt.ylabel('Quantité')\n",
    "plt.title('Nombre de pizzas par catégories')\n",
    "\n",
    "plt.show()"
   ]
  },
  {
   "cell_type": "markdown",
   "id": "28fefbe0",
   "metadata": {},
   "source": [
    "Ce graphique nous montre que cette variable n'a pas une distribution normale.  \n",
    "De ce fait, elle ne répond pas au critère pour appliquer une ANOVA."
   ]
  },
  {
   "cell_type": "code",
   "execution_count": 43,
   "id": "053c2ec9",
   "metadata": {},
   "outputs": [
    {
     "data": {
      "text/plain": [
       "hours\n",
       "9         83.00\n",
       "10       303.65\n",
       "11     44935.80\n",
       "12    111877.90\n",
       "13    106065.70\n",
       "14     59201.40\n",
       "15     52992.30\n",
       "16     70055.40\n",
       "17     86237.45\n",
       "18     89296.85\n",
       "19     72628.90\n",
       "20     58215.40\n",
       "21     42029.80\n",
       "22     22815.15\n",
       "23      1121.35\n",
       "Name: total_price, dtype: float64"
      ]
     },
     "execution_count": 43,
     "metadata": {},
     "output_type": "execute_result"
    }
   ],
   "source": [
    "df.groupby('hours')['total_price'].sum()"
   ]
  },
  {
   "cell_type": "code",
   "execution_count": 44,
   "id": "ebaa4377",
   "metadata": {},
   "outputs": [
    {
     "data": {
      "text/plain": [
       "<Axes: xlabel='hours', ylabel='total_price'>"
      ]
     },
     "execution_count": 44,
     "metadata": {},
     "output_type": "execute_result"
    },
    {
     "data": {
      "image/png": "[encoded data removed]",
      "text/plain": [
       "<Figure size 640x480 with 1 Axes>"
      ]
     },
     "metadata": {},
     "output_type": "display_data"
    }
   ],
   "source": [
    "sns.boxplot(data=df,x=df['hours'],y=df['total_price'])"
   ]
  },
  {
   "cell_type": "markdown",
   "id": "b5a6767a",
   "metadata": {},
   "source": [
    "Le boxplot montre à première vue très peu de variance entre les heures excepté pour la plage de 9h.  \n",
    "Pour confirmer cette hypothèse je réalise une **Anova (Analyse de la variance)** avec la librairie *statsmodels*"
   ]
  },
  {
   "cell_type": "markdown",
   "id": "c04154ec",
   "metadata": {},
   "source": [
    "L’ANOVA compare la variance entre les groupes à celle à l’intérieur des groupes (**la variance intra-groupe**).  \n",
    "\n",
    "Si la variance entre les groupes est **supérieure à la variance intra-groupe**, la variable explicative a un effet plus important que l’erreur aléatoire (due à la variance intra-groupe). La variable explicative est donc susceptible d’influencer significativement la variable réponse."
   ]
  },
  {
   "cell_type": "code",
   "execution_count": 45,
   "id": "15e9e7d4",
   "metadata": {},
   "outputs": [
    {
     "name": "stdout",
     "output_type": "stream",
     "text": [
      "                            OLS Regression Results                            \n",
      "==============================================================================\n",
      "Dep. Variable:               order_id   R-squared:                       0.001\n",
      "Model:                            OLS   Adj. R-squared:                  0.001\n",
      "Method:                 Least Squares   F-statistic:                     5.144\n",
      "Date:                Fri, 26 Jan 2024   Prob (F-statistic):           8.44e-10\n",
      "Time:                        10:25:47   Log-Likelihood:            -4.9336e+05\n",
      "No. Observations:               48620   AIC:                         9.868e+05\n",
      "Df Residuals:                   48605   BIC:                         9.869e+05\n",
      "Df Model:                          14                                         \n",
      "Covariance Type:            nonrobust                                         \n",
      "===============================================================================\n",
      "                  coef    std err          t      P>|t|      [0.025      0.975]\n",
      "-------------------------------------------------------------------------------\n",
      "Intercept    1.918e+04   3088.218      6.209      0.000    1.31e+04    2.52e+04\n",
      "hours[T.10] -1.053e+04   3432.362     -3.067      0.002   -1.73e+04   -3798.056\n",
      "hours[T.11] -8264.3683   3090.528     -2.674      0.007   -1.43e+04   -2206.893\n",
      "hours[T.12] -8590.0423   3089.162     -2.781      0.005   -1.46e+04   -2535.246\n",
      "hours[T.13] -8349.6000   3089.213     -2.703      0.007   -1.44e+04   -2294.703\n",
      "hours[T.14] -8967.3811   3089.971     -2.902      0.004    -1.5e+04   -2910.998\n",
      "hours[T.15] -8209.0375   3090.165     -2.657      0.008   -1.43e+04   -2152.274\n",
      "hours[T.16] -8460.0002   3089.693     -2.738      0.006   -1.45e+04   -2404.162\n",
      "hours[T.17] -8805.2885   3089.418     -2.850      0.004   -1.49e+04   -2749.989\n",
      "hours[T.18] -8299.4197   3089.370     -2.686      0.007   -1.44e+04   -2244.215\n",
      "hours[T.19] -8462.6618   3089.637     -2.739      0.006   -1.45e+04   -2406.933\n",
      "hours[T.20] -8424.2742   3089.988     -2.726      0.006   -1.45e+04   -2367.857\n",
      "hours[T.21] -8368.4968   3090.660     -2.708      0.007   -1.44e+04   -2310.764\n",
      "hours[T.22] -8154.7526   3092.723     -2.637      0.008   -1.42e+04   -2092.976\n",
      "hours[T.23] -7249.2647   3177.750     -2.281      0.023   -1.35e+04   -1020.834\n",
      "==============================================================================\n",
      "Omnibus:                    46128.392   Durbin-Watson:                   0.000\n",
      "Prob(Omnibus):                  0.000   Jarque-Bera (JB):             2953.315\n",
      "Skew:                          -0.003   Prob(JB):                         0.00\n",
      "Kurtosis:                       1.793   Cond. No.                         447.\n",
      "==============================================================================\n",
      "\n",
      "Notes:\n",
      "[1] Standard Errors assume that the covariance matrix of the errors is correctly specified.\n"
     ]
    }
   ],
   "source": [
    "#Seuil de signification fixé à 0,05 %\n",
    "df[\"hours\"] = df[\"hours\"].astype(\"category\")\n",
    "anova = smf.ols('order_id~hours',data=df).fit()\n",
    "print(anova.summary())"
   ]
  },
  {
   "cell_type": "markdown",
   "id": "9f31c8d3",
   "metadata": {},
   "source": [
    "## 10.Pizzas populaires :\n",
    "### a. Quelles sont les 5 pizzas les plus commandées en quantité ?"
   ]
  },
  {
   "cell_type": "code",
   "execution_count": 46,
   "id": "35229325",
   "metadata": {},
   "outputs": [
    {
     "data": {
      "text/plain": [
       "pizza_category  pizza_name                pizza_size\n",
       "Classic         The Big Meat Pizza        S             1811\n",
       "Chicken         The Thai Chicken Pizza    L             1365\n",
       "Veggie          The Five Cheese Pizza     L             1359\n",
       "                The Four Cheese Pizza     L             1273\n",
       "Classic         The Classic Deluxe Pizza  M             1159\n",
       "Name: quantity, dtype: int64"
      ]
     },
     "execution_count": 46,
     "metadata": {},
     "output_type": "execute_result"
    }
   ],
   "source": [
    "df.groupby(['pizza_category','pizza_name','pizza_size'])['quantity'].count().sort_values(ascending=False)[:5]\n"
   ]
  },
  {
   "cell_type": "markdown",
   "id": "c6dbfc87",
   "metadata": {},
   "source": [
    "### b. Quelles sont les 5 pizzas les plus commandées en termes de chiffre d'affaires ?"
   ]
  },
  {
   "cell_type": "code",
   "execution_count": 47,
   "id": "3ebe36b7",
   "metadata": {},
   "outputs": [
    {
     "data": {
      "text/plain": [
       "pizza_category  pizza_name               pizza_size\n",
       "Chicken         The Thai Chicken Pizza   L             28323.75\n",
       "Veggie          The Five Cheese Pizza    L             25141.50\n",
       "                The Four Cheese Pizza    L             22850.35\n",
       "Supreme         The Spicy Italian Pizza  L             22576.00\n",
       "Classic         The Big Meat Pizza       S             21732.00\n",
       "Name: unit_price, dtype: float64"
      ]
     },
     "execution_count": 47,
     "metadata": {},
     "output_type": "execute_result"
    }
   ],
   "source": [
    "df.groupby(['pizza_category','pizza_name','pizza_size'])['unit_price'].sum().sort_values(ascending=False)[:5]"
   ]
  },
  {
   "cell_type": "markdown",
   "id": "8ed7860a",
   "metadata": {},
   "source": [
    "## 11.Chiffre d'affaires par taille et catégorie :\n",
    " ### a. Quelle est la répartition du chiffre d'affaires pour chaque taille de pizza ?"
   ]
  },
  {
   "cell_type": "code",
   "execution_count": 48,
   "id": "d3525c1a",
   "metadata": {},
   "outputs": [
    {
     "data": {
      "text/plain": [
       "pizza_size\n",
       "L      366862.1\n",
       "M      245409.5\n",
       "S      174794.5\n",
       "XL      13872.0\n",
       "XXL      1006.6\n",
       "Name: unit_price, dtype: float64"
      ]
     },
     "execution_count": 48,
     "metadata": {},
     "output_type": "execute_result"
    }
   ],
   "source": [
    "df.groupby(['pizza_size'])['unit_price'].sum().sort_values(ascending=False)"
   ]
  },
  {
   "cell_type": "markdown",
   "id": "fa797e79",
   "metadata": {},
   "source": [
    "### b. Quelle est la répartition du chiffre d'affaires pour chaque catégorie de pizza ?"
   ]
  },
  {
   "cell_type": "code",
   "execution_count": 49,
   "id": "e1b6bba5",
   "metadata": {},
   "outputs": [
    {
     "data": {
      "text/plain": [
       "pizza_category\n",
       "Classic    215732.60\n",
       "Supreme    204486.75\n",
       "Chicken    191527.25\n",
       "Veggie     190198.10\n",
       "Name: unit_price, dtype: float64"
      ]
     },
     "execution_count": 49,
     "metadata": {},
     "output_type": "execute_result"
    }
   ],
   "source": [
    "df.groupby(['pizza_category'])['unit_price'].sum().sort_values(ascending=False)"
   ]
  },
  {
   "cell_type": "markdown",
   "id": "9228694f",
   "metadata": {},
   "source": [
    "## 12.Corrélation entre prix et quantité :\n",
    "### a. Y a-t-il une corrélation entre le prix unitaire et la quantité commandée ?"
   ]
  },
  {
   "cell_type": "markdown",
   "id": "92f82992",
   "metadata": {},
   "source": [
    "Formulation de l'hypothèse :\n",
    "\n",
    "* H0 = les variances sont égales\n",
    "* H1 = les variances ne sont pas égales\n",
    "\n",
    "Définition du niveau de signification : \n",
    "\n",
    "*  alpha = 0.05%\n",
    "\n",
    "J'utilise à nouveau l'ANOVA pour réaliser ce test de corrélation."
   ]
  },
  {
   "cell_type": "code",
   "execution_count": 50,
   "id": "45e60e67",
   "metadata": {},
   "outputs": [
    {
     "data": {
      "text/plain": [
       "array([1, 2, 3, 4], dtype=int64)"
      ]
     },
     "execution_count": 50,
     "metadata": {},
     "output_type": "execute_result"
    }
   ],
   "source": [
    "df['quantity'].unique()"
   ]
  },
  {
   "cell_type": "code",
   "execution_count": 51,
   "id": "2bbb0de8",
   "metadata": {},
   "outputs": [
    {
     "data": {
      "text/plain": [
       "<Axes: xlabel='quantity', ylabel='unit_price'>"
      ]
     },
     "execution_count": 51,
     "metadata": {},
     "output_type": "execute_result"
    },
    {
     "data": {
      "image/png": "[encoded data removed]",
      "text/plain": [
       "<Figure size 640x480 with 1 Axes>"
      ]
     },
     "metadata": {},
     "output_type": "display_data"
    }
   ],
   "source": [
    "sns.boxplot(data=df,x=df['quantity'],y=df['unit_price'])"
   ]
  },
  {
   "cell_type": "code",
   "execution_count": 52,
   "id": "2837364b",
   "metadata": {},
   "outputs": [
    {
     "name": "stdout",
     "output_type": "stream",
     "text": [
      "                            OLS Regression Results                            \n",
      "==============================================================================\n",
      "Dep. Variable:             unit_price   R-squared:                       0.000\n",
      "Model:                            OLS   Adj. R-squared:                  0.000\n",
      "Method:                 Least Squares   F-statistic:                     1.536\n",
      "Date:                Fri, 26 Jan 2024   Prob (F-statistic):              0.203\n",
      "Time:                        10:25:47   Log-Likelihood:            -1.3156e+05\n",
      "No. Observations:               48620   AIC:                         2.631e+05\n",
      "Df Residuals:                   48616   BIC:                         2.632e+05\n",
      "Df Model:                           3                                         \n",
      "Covariance Type:            nonrobust                                         \n",
      "=======================================================================================\n",
      "                          coef    std err          t      P>|t|      [0.025      0.975]\n",
      "---------------------------------------------------------------------------------------\n",
      "Intercept              16.4900      0.017    994.333      0.000      16.457      16.522\n",
      "quantity_categ[T.2]     0.2371      0.122      1.949      0.051      -0.001       0.476\n",
      "quantity_categ[T.3]    -0.3828      0.791     -0.484      0.628      -1.932       1.167\n",
      "quantity_categ[T.4]    -1.5733      2.091     -0.752      0.452      -5.672       2.525\n",
      "==============================================================================\n",
      "Omnibus:                     1564.283   Durbin-Watson:                   2.043\n",
      "Prob(Omnibus):                  0.000   Jarque-Bera (JB):              816.521\n",
      "Skew:                           0.127   Prob(JB):                    4.95e-178\n",
      "Kurtosis:                       2.419   Cond. No.                         127.\n",
      "==============================================================================\n",
      "\n",
      "Notes:\n",
      "[1] Standard Errors assume that the covariance matrix of the errors is correctly specified.\n"
     ]
    }
   ],
   "source": [
    "# Seuil de signification fixé à 0,05 %\n",
    "df[\"quantity_categ\"] = df[\"quantity\"].astype(\"category\")\n",
    "anova = smf.ols('unit_price~quantity_categ', data=df).fit()\n",
    "print(anova.summary())"
   ]
  },
  {
   "cell_type": "markdown",
   "id": "c220c0a4",
   "metadata": {},
   "source": [
    "Avec un R² à 0 et des p-values supérieures au seuil de 0.05%, **on ne peut pas rejeter l'hypothèse H0** et dire qu'il n'y a pas de corrélation entre le prix unitaire et la quantité commandée. "
   ]
  },
  {
   "cell_type": "markdown",
   "id": "b13faddf",
   "metadata": {},
   "source": [
    "### b. Quel est le prix unitaire moyen pour différentes tailles de pizza ?"
   ]
  },
  {
   "cell_type": "code",
   "execution_count": 53,
   "id": "1d4d101b",
   "metadata": {},
   "outputs": [
    {
     "data": {
      "text/plain": [
       "pizza_size\n",
       "L      19.802553\n",
       "M      15.951219\n",
       "S      12.364328\n",
       "XL     25.500000\n",
       "XXL    35.950000\n",
       "Name: unit_price, dtype: float64"
      ]
     },
     "execution_count": 53,
     "metadata": {},
     "output_type": "execute_result"
    }
   ],
   "source": [
    "df.groupby('pizza_size')['unit_price'].mean()"
   ]
  },
  {
   "cell_type": "markdown",
   "id": "70b6134e",
   "metadata": {},
   "source": [
    "## 13.Tendances saisonnières :\n",
    "### a. Y a-t-il des tendances saisonnières dans les commandes de pizza ?"
   ]
  },
  {
   "cell_type": "code",
   "execution_count": 54,
   "id": "8af31d23",
   "metadata": {},
   "outputs": [
    {
     "data": {
      "text/plain": [
       "Index(['order_details_id', 'order_id', 'pizza_id', 'quantity', 'order_date',\n",
       "       'order_time', 'unit_price', 'total_price', 'pizza_size',\n",
       "       'pizza_category', 'pizza_ingredients', 'pizza_name', 'year', 'month',\n",
       "       'day', 'combined_datetime', 'time_difference', 'pizza_cat_size',\n",
       "       'hours', 'quantity_categ'],\n",
       "      dtype='object')"
      ]
     },
     "execution_count": 54,
     "metadata": {},
     "output_type": "execute_result"
    }
   ],
   "source": [
    "df.columns"
   ]
  },
  {
   "cell_type": "code",
   "execution_count": 55,
   "id": "b5c4266a",
   "metadata": {},
   "outputs": [],
   "source": [
    "df['quarter'] = df['order_date'].dt.quarter"
   ]
  },
  {
   "cell_type": "code",
   "execution_count": 56,
   "id": "52d61c50",
   "metadata": {},
   "outputs": [],
   "source": [
    "dict = {1 : 'Hiver', 2 : 'Printemps', 3: 'Ete', 4 : 'Automne'}\n",
    "df = df.replace({\"quarter\": dict})"
   ]
  },
  {
   "cell_type": "code",
   "execution_count": 57,
   "id": "a5fec68f",
   "metadata": {},
   "outputs": [
    {
     "data": {
      "text/plain": [
       "pizza_name                  \n",
       "The Barbecue Chicken Pizza      622\n",
       "The Pepperoni Pizza             620\n",
       "The Hawaiian Pizza              588\n",
       "The California Chicken Pizza    583\n",
       "The Thai Chicken Pizza          571\n",
       "The Classic Deluxe Pizza        562\n",
       "The Sicilian Pizza              489\n",
       "The Four Cheese Pizza           470\n",
       "The Southwest Chicken Pizza     463\n",
       "The Spicy Italian Pizza         461\n",
       "Name: count, dtype: int64"
      ]
     },
     "execution_count": 57,
     "metadata": {},
     "output_type": "execute_result"
    }
   ],
   "source": [
    "df.loc[df['quarter']=='Hiver'][['pizza_name']].value_counts()[:10]"
   ]
  },
  {
   "cell_type": "code",
   "execution_count": 58,
   "id": "aa530b48",
   "metadata": {},
   "outputs": [
    {
     "data": {
      "text/plain": [
       "pizza_name                  \n",
       "The Classic Deluxe Pizza        622\n",
       "The Barbecue Chicken Pizza      616\n",
       "The Hawaiian Pizza              592\n",
       "The California Chicken Pizza    581\n",
       "The Pepperoni Pizza             564\n",
       "The Thai Chicken Pizza          564\n",
       "The Italian Supreme Pizza       506\n",
       "The Spicy Italian Pizza         492\n",
       "The Four Cheese Pizza           480\n",
       "The Southwest Chicken Pizza     465\n",
       "Name: count, dtype: int64"
      ]
     },
     "execution_count": 58,
     "metadata": {},
     "output_type": "execute_result"
    }
   ],
   "source": [
    "df.loc[df['quarter']=='Printemps'][['pizza_name']].value_counts()[:10]"
   ]
  },
  {
   "cell_type": "code",
   "execution_count": 59,
   "id": "6a8fb048",
   "metadata": {},
   "outputs": [
    {
     "data": {
      "text/plain": [
       "pizza_name                  \n",
       "The Classic Deluxe Pizza        628\n",
       "The Pepperoni Pizza             625\n",
       "The Thai Chicken Pizza          591\n",
       "The Barbecue Chicken Pizza      589\n",
       "The Hawaiian Pizza              582\n",
       "The California Chicken Pizza    578\n",
       "The Southwest Chicken Pizza     498\n",
       "The Spicy Italian Pizza         469\n",
       "The Big Meat Pizza              458\n",
       "The Sicilian Pizza              447\n",
       "Name: count, dtype: int64"
      ]
     },
     "execution_count": 59,
     "metadata": {},
     "output_type": "execute_result"
    }
   ],
   "source": [
    "df.loc[df['quarter']=='Ete'][['pizza_name']].value_counts()[:10]"
   ]
  },
  {
   "cell_type": "code",
   "execution_count": 60,
   "id": "39956a08",
   "metadata": {},
   "outputs": [
    {
     "data": {
      "text/plain": [
       "pizza_name                  \n",
       "The Hawaiian Pizza              608\n",
       "The Classic Deluxe Pizza        604\n",
       "The Thai Chicken Pizza          589\n",
       "The California Chicken Pizza    560\n",
       "The Pepperoni Pizza             560\n",
       "The Barbecue Chicken Pizza      545\n",
       "The Sicilian Pizza              494\n",
       "The Spicy Italian Pizza         465\n",
       "The Four Cheese Pizza           461\n",
       "The Southwest Chicken Pizza     459\n",
       "Name: count, dtype: int64"
      ]
     },
     "execution_count": 60,
     "metadata": {},
     "output_type": "execute_result"
    }
   ],
   "source": [
    "df.loc[df['quarter']=='Automne'][['pizza_name']].value_counts()[:10]"
   ]
  },
  {
   "cell_type": "markdown",
   "id": "1e9665bb",
   "metadata": {},
   "source": [
    "### b. Y a-t-il une corrélation entre le jour de la semaine et la quantité de commandes ?"
   ]
  },
  {
   "cell_type": "markdown",
   "id": "6fd7d019",
   "metadata": {},
   "source": [
    "Pour savoir s'il y a une corrélation entre une le jour de la semaine et la quantité de commandes"
   ]
  },
  {
   "cell_type": "code",
   "execution_count": 61,
   "id": "f7defd07",
   "metadata": {},
   "outputs": [
    {
     "data": {
      "text/plain": [
       "Index(['order_details_id', 'order_id', 'pizza_id', 'quantity', 'order_date',\n",
       "       'order_time', 'unit_price', 'total_price', 'pizza_size',\n",
       "       'pizza_category', 'pizza_ingredients', 'pizza_name', 'year', 'month',\n",
       "       'day', 'combined_datetime', 'time_difference', 'pizza_cat_size',\n",
       "       'hours', 'quantity_categ', 'quarter'],\n",
       "      dtype='object')"
      ]
     },
     "execution_count": 61,
     "metadata": {},
     "output_type": "execute_result"
    }
   ],
   "source": [
    "df.columns"
   ]
  },
  {
   "cell_type": "code",
   "execution_count": 62,
   "id": "22f692b9",
   "metadata": {},
   "outputs": [
    {
     "data": {
      "text/html": [
       "<div>\n",
       "<style scoped>\n",
       "    .dataframe tbody tr th:only-of-type {\n",
       "        vertical-align: middle;\n",
       "    }\n",
       "\n",
       "    .dataframe tbody tr th {\n",
       "        vertical-align: top;\n",
       "    }\n",
       "\n",
       "    .dataframe thead th {\n",
       "        text-align: right;\n",
       "    }\n",
       "</style>\n",
       "<table border=\"1\" class=\"dataframe\">\n",
       "  <thead>\n",
       "    <tr style=\"text-align: right;\">\n",
       "      <th></th>\n",
       "      <th>day</th>\n",
       "      <th>quantity</th>\n",
       "    </tr>\n",
       "  </thead>\n",
       "  <tbody>\n",
       "    <tr>\n",
       "      <th>0</th>\n",
       "      <td>Friday</td>\n",
       "      <td>8106</td>\n",
       "    </tr>\n",
       "    <tr>\n",
       "      <th>1</th>\n",
       "      <td>Monday</td>\n",
       "      <td>6369</td>\n",
       "    </tr>\n",
       "    <tr>\n",
       "      <th>2</th>\n",
       "      <td>Saturday</td>\n",
       "      <td>7355</td>\n",
       "    </tr>\n",
       "    <tr>\n",
       "      <th>3</th>\n",
       "      <td>Sunday</td>\n",
       "      <td>5917</td>\n",
       "    </tr>\n",
       "    <tr>\n",
       "      <th>4</th>\n",
       "      <td>Thursday</td>\n",
       "      <td>7323</td>\n",
       "    </tr>\n",
       "    <tr>\n",
       "      <th>5</th>\n",
       "      <td>Tuesday</td>\n",
       "      <td>6753</td>\n",
       "    </tr>\n",
       "    <tr>\n",
       "      <th>6</th>\n",
       "      <td>Wednesday</td>\n",
       "      <td>6797</td>\n",
       "    </tr>\n",
       "  </tbody>\n",
       "</table>\n",
       "</div>"
      ],
      "text/plain": [
       "         day  quantity\n",
       "0     Friday      8106\n",
       "1     Monday      6369\n",
       "2   Saturday      7355\n",
       "3     Sunday      5917\n",
       "4   Thursday      7323\n",
       "5    Tuesday      6753\n",
       "6  Wednesday      6797"
      ]
     },
     "execution_count": 62,
     "metadata": {},
     "output_type": "execute_result"
    }
   ],
   "source": [
    "df_day = df.groupby('day')['quantity'].count().reset_index()\n",
    "df_day"
   ]
  },
  {
   "cell_type": "code",
   "execution_count": 63,
   "id": "faf0c2c2",
   "metadata": {},
   "outputs": [],
   "source": [
    "df['day'] = pd.Categorical(df['day'], categories=['Tuesday', 'Wednesday', 'Thursday', 'Friday'], ordered=True)"
   ]
  },
  {
   "cell_type": "code",
   "execution_count": 64,
   "id": "707a0e3d",
   "metadata": {},
   "outputs": [
    {
     "name": "stdout",
     "output_type": "stream",
     "text": [
      "<class 'pandas.core.frame.DataFrame'>\n",
      "RangeIndex: 7 entries, 0 to 6\n",
      "Data columns (total 2 columns):\n",
      " #   Column    Non-Null Count  Dtype \n",
      "---  ------    --------------  ----- \n",
      " 0   day       7 non-null      object\n",
      " 1   quantity  7 non-null      int64 \n",
      "dtypes: int64(1), object(1)\n",
      "memory usage: 244.0+ bytes\n"
     ]
    }
   ],
   "source": [
    "df_day.info()"
   ]
  },
  {
   "cell_type": "code",
   "execution_count": 65,
   "id": "ae6ce0b9",
   "metadata": {},
   "outputs": [
    {
     "name": "stdout",
     "output_type": "stream",
     "text": [
      "                            OLS Regression Results                            \n",
      "==============================================================================\n",
      "Dep. Variable:               quantity   R-squared:                       0.000\n",
      "Model:                            OLS   Adj. R-squared:                  0.000\n",
      "Method:                 Least Squares   F-statistic:                     2.030\n",
      "Date:                Fri, 26 Jan 2024   Prob (F-statistic):              0.107\n",
      "Time:                        10:25:48   Log-Likelihood:                 15058.\n",
      "No. Observations:               28979   AIC:                        -3.011e+04\n",
      "Df Residuals:                   28975   BIC:                        -3.007e+04\n",
      "Df Model:                           3                                         \n",
      "Covariance Type:            nonrobust                                         \n",
      "====================================================================================\n",
      "                       coef    std err          t      P>|t|      [0.025      0.975]\n",
      "------------------------------------------------------------------------------------\n",
      "Intercept            1.0210      0.002    582.982      0.000       1.018       1.024\n",
      "day[T.Wednesday]     0.0009      0.002      0.361      0.718      -0.004       0.006\n",
      "day[T.Thursday]      0.0001      0.002      0.057      0.955      -0.005       0.005\n",
      "day[T.Friday]       -0.0042      0.002     -1.792      0.073      -0.009       0.000\n",
      "==============================================================================\n",
      "Omnibus:                    37212.654   Durbin-Watson:                   1.959\n",
      "Prob(Omnibus):                  0.000   Jarque-Bera (JB):          4514207.790\n",
      "Skew:                           7.424   Prob(JB):                         0.00\n",
      "Kurtosis:                      62.314   Cond. No.                         4.95\n",
      "==============================================================================\n",
      "\n",
      "Notes:\n",
      "[1] Standard Errors assume that the covariance matrix of the errors is correctly specified.\n"
     ]
    }
   ],
   "source": [
    "# Seuil de signification fixé à 0,05 %\n",
    "\n",
    "anova = smf.ols('quantity~day', data=df).fit()\n",
    "print(anova.summary())"
   ]
  },
  {
   "cell_type": "markdown",
   "id": "f4cfb6f4",
   "metadata": {},
   "source": [
    "D'après les résultats, avec un **R² à 0** et **des p-values supérieures au seuil de 0.05%** nous ne pouvons pas rejeter l'hypothèse H0 (les variances sont égales)."
   ]
  },
  {
   "cell_type": "code",
   "execution_count": null,
   "id": "77c386ea",
   "metadata": {},
   "outputs": [],
   "source": []
  }
 ],
 "metadata": {
  "kernelspec": {
   "display_name": "Python 3 (ipykernel)",
   "language": "python",
   "name": "python3"
  },
  "language_info": {
   "codemirror_mode": {
    "name": "ipython",
    "version": 3
   },
   "file_extension": ".py",
   "mimetype": "text/x-python",
   "name": "python",
   "nbconvert_exporter": "python",
   "pygments_lexer": "ipython3",
   "version": "3.11.7"
  },
  "nbTranslate": {
   "displayLangs": [
    "*"
   ],
   "hotkey": "alt-t",
   "langInMainMenu": true,
   "sourceLang": "en",
   "targetLang": "fr",
   "useGoogleTranslate": true
  }
 },
 "nbformat": 4,
 "nbformat_minor": 5
}
