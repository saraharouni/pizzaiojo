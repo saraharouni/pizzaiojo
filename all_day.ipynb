{
 "cells": [
  {
   "cell_type": "code",
   "execution_count": 142,
   "id": "c56eadc0",
   "metadata": {},
   "outputs": [],
   "source": [
    "import pandas as pd\n",
    "from datetime import datetime\n",
    "import seaborn as sns\n",
    "import statsmodels.formula.api as smf\n",
    "import statsmodels.api as sm"
   ]
  },
  {
   "cell_type": "code",
   "execution_count": 143,
   "id": "1124b11c",
   "metadata": {},
   "outputs": [],
   "source": [
    "df = pd.read_excel('pizza.xlsx')"
   ]
  },
  {
   "cell_type": "code",
   "execution_count": 144,
   "id": "7c417abe",
   "metadata": {
    "scrolled": true
   },
   "outputs": [
    {
     "data": {
      "text/html": [
       "<div>\n",
       "<style scoped>\n",
       "    .dataframe tbody tr th:only-of-type {\n",
       "        vertical-align: middle;\n",
       "    }\n",
       "\n",
       "    .dataframe tbody tr th {\n",
       "        vertical-align: top;\n",
       "    }\n",
       "\n",
       "    .dataframe thead th {\n",
       "        text-align: right;\n",
       "    }\n",
       "</style>\n",
       "<table border=\"1\" class=\"dataframe\">\n",
       "  <thead>\n",
       "    <tr style=\"text-align: right;\">\n",
       "      <th></th>\n",
       "      <th>order_details_id</th>\n",
       "      <th>order_id</th>\n",
       "      <th>pizza_id</th>\n",
       "      <th>quantity</th>\n",
       "      <th>order_date</th>\n",
       "      <th>order_time</th>\n",
       "      <th>unit_price</th>\n",
       "      <th>total_price</th>\n",
       "      <th>pizza_size</th>\n",
       "      <th>pizza_category</th>\n",
       "      <th>pizza_ingredients</th>\n",
       "      <th>pizza_name</th>\n",
       "    </tr>\n",
       "  </thead>\n",
       "  <tbody>\n",
       "    <tr>\n",
       "      <th>0</th>\n",
       "      <td>1</td>\n",
       "      <td>1</td>\n",
       "      <td>hawaiian_m</td>\n",
       "      <td>1</td>\n",
       "      <td>2015-01-01</td>\n",
       "      <td>11:38:36</td>\n",
       "      <td>13.25</td>\n",
       "      <td>13.25</td>\n",
       "      <td>M</td>\n",
       "      <td>Classic</td>\n",
       "      <td>Sliced Ham, Pineapple, Mozzarella Cheese</td>\n",
       "      <td>The Hawaiian Pizza</td>\n",
       "    </tr>\n",
       "    <tr>\n",
       "      <th>1</th>\n",
       "      <td>2</td>\n",
       "      <td>2</td>\n",
       "      <td>classic_dlx_m</td>\n",
       "      <td>1</td>\n",
       "      <td>2015-01-01</td>\n",
       "      <td>11:57:40</td>\n",
       "      <td>16.00</td>\n",
       "      <td>16.00</td>\n",
       "      <td>M</td>\n",
       "      <td>Classic</td>\n",
       "      <td>Pepperoni, Mushrooms, Red Onions, Red Peppers,...</td>\n",
       "      <td>The Classic Deluxe Pizza</td>\n",
       "    </tr>\n",
       "    <tr>\n",
       "      <th>2</th>\n",
       "      <td>3</td>\n",
       "      <td>2</td>\n",
       "      <td>five_cheese_l</td>\n",
       "      <td>1</td>\n",
       "      <td>2015-01-01</td>\n",
       "      <td>11:57:40</td>\n",
       "      <td>18.50</td>\n",
       "      <td>18.50</td>\n",
       "      <td>L</td>\n",
       "      <td>Veggie</td>\n",
       "      <td>Mozzarella Cheese, Provolone Cheese, Smoked Go...</td>\n",
       "      <td>The Five Cheese Pizza</td>\n",
       "    </tr>\n",
       "    <tr>\n",
       "      <th>3</th>\n",
       "      <td>4</td>\n",
       "      <td>2</td>\n",
       "      <td>ital_supr_l</td>\n",
       "      <td>1</td>\n",
       "      <td>2015-01-01</td>\n",
       "      <td>11:57:40</td>\n",
       "      <td>20.75</td>\n",
       "      <td>20.75</td>\n",
       "      <td>L</td>\n",
       "      <td>Supreme</td>\n",
       "      <td>Calabrese Salami, Capocollo, Tomatoes, Red Oni...</td>\n",
       "      <td>The Italian Supreme Pizza</td>\n",
       "    </tr>\n",
       "    <tr>\n",
       "      <th>4</th>\n",
       "      <td>5</td>\n",
       "      <td>2</td>\n",
       "      <td>mexicana_m</td>\n",
       "      <td>1</td>\n",
       "      <td>2015-01-01</td>\n",
       "      <td>11:57:40</td>\n",
       "      <td>16.00</td>\n",
       "      <td>16.00</td>\n",
       "      <td>M</td>\n",
       "      <td>Veggie</td>\n",
       "      <td>Tomatoes, Red Peppers, Jalapeno Peppers, Red O...</td>\n",
       "      <td>The Mexicana Pizza</td>\n",
       "    </tr>\n",
       "  </tbody>\n",
       "</table>\n",
       "</div>"
      ],
      "text/plain": [
       "   order_details_id  order_id       pizza_id  quantity order_date order_time  \\\n",
       "0                 1         1     hawaiian_m         1 2015-01-01   11:38:36   \n",
       "1                 2         2  classic_dlx_m         1 2015-01-01   11:57:40   \n",
       "2                 3         2  five_cheese_l         1 2015-01-01   11:57:40   \n",
       "3                 4         2    ital_supr_l         1 2015-01-01   11:57:40   \n",
       "4                 5         2     mexicana_m         1 2015-01-01   11:57:40   \n",
       "\n",
       "   unit_price  total_price pizza_size pizza_category  \\\n",
       "0       13.25        13.25          M        Classic   \n",
       "1       16.00        16.00          M        Classic   \n",
       "2       18.50        18.50          L         Veggie   \n",
       "3       20.75        20.75          L        Supreme   \n",
       "4       16.00        16.00          M         Veggie   \n",
       "\n",
       "                                   pizza_ingredients  \\\n",
       "0           Sliced Ham, Pineapple, Mozzarella Cheese   \n",
       "1  Pepperoni, Mushrooms, Red Onions, Red Peppers,...   \n",
       "2  Mozzarella Cheese, Provolone Cheese, Smoked Go...   \n",
       "3  Calabrese Salami, Capocollo, Tomatoes, Red Oni...   \n",
       "4  Tomatoes, Red Peppers, Jalapeno Peppers, Red O...   \n",
       "\n",
       "                  pizza_name  \n",
       "0         The Hawaiian Pizza  \n",
       "1   The Classic Deluxe Pizza  \n",
       "2      The Five Cheese Pizza  \n",
       "3  The Italian Supreme Pizza  \n",
       "4         The Mexicana Pizza  "
      ]
     },
     "execution_count": 144,
     "metadata": {},
     "output_type": "execute_result"
    }
   ],
   "source": [
    "df.head()"
   ]
  },
  {
   "cell_type": "code",
   "execution_count": 145,
   "id": "ed7aa915",
   "metadata": {},
   "outputs": [
    {
     "name": "stdout",
     "output_type": "stream",
     "text": [
      "<class 'pandas.core.frame.DataFrame'>\n",
      "RangeIndex: 48620 entries, 0 to 48619\n",
      "Data columns (total 12 columns):\n",
      " #   Column             Non-Null Count  Dtype         \n",
      "---  ------             --------------  -----         \n",
      " 0   order_details_id   48620 non-null  int64         \n",
      " 1   order_id           48620 non-null  int64         \n",
      " 2   pizza_id           48620 non-null  object        \n",
      " 3   quantity           48620 non-null  int64         \n",
      " 4   order_date         48620 non-null  datetime64[ns]\n",
      " 5   order_time         48620 non-null  object        \n",
      " 6   unit_price         48620 non-null  float64       \n",
      " 7   total_price        48620 non-null  float64       \n",
      " 8   pizza_size         48620 non-null  object        \n",
      " 9   pizza_category     48620 non-null  object        \n",
      " 10  pizza_ingredients  48620 non-null  object        \n",
      " 11  pizza_name         48620 non-null  object        \n",
      "dtypes: datetime64[ns](1), float64(2), int64(3), object(6)\n",
      "memory usage: 4.5+ MB\n"
     ]
    }
   ],
   "source": [
    "df.info()"
   ]
  },
  {
   "cell_type": "code",
   "execution_count": 146,
   "id": "0dd585f5",
   "metadata": {},
   "outputs": [],
   "source": [
    "df['year'] = df['order_date'].dt.year\n",
    "df['month'] = df['order_date'].dt.month\n",
    "df['day'] = df['order_date'].dt.day_name()\n",
    "df['combined_datetime'] = pd.to_datetime(df['order_date'].astype(str) + ' ' + df['order_time'].astype(str))"
   ]
  },
  {
   "cell_type": "code",
   "execution_count": 147,
   "id": "4bef1414",
   "metadata": {
    "scrolled": true
   },
   "outputs": [
    {
     "data": {
      "text/html": [
       "<div>\n",
       "<style scoped>\n",
       "    .dataframe tbody tr th:only-of-type {\n",
       "        vertical-align: middle;\n",
       "    }\n",
       "\n",
       "    .dataframe tbody tr th {\n",
       "        vertical-align: top;\n",
       "    }\n",
       "\n",
       "    .dataframe thead th {\n",
       "        text-align: right;\n",
       "    }\n",
       "</style>\n",
       "<table border=\"1\" class=\"dataframe\">\n",
       "  <thead>\n",
       "    <tr style=\"text-align: right;\">\n",
       "      <th></th>\n",
       "      <th>order_details_id</th>\n",
       "      <th>order_id</th>\n",
       "      <th>pizza_id</th>\n",
       "      <th>quantity</th>\n",
       "      <th>order_date</th>\n",
       "      <th>order_time</th>\n",
       "      <th>unit_price</th>\n",
       "      <th>total_price</th>\n",
       "      <th>pizza_size</th>\n",
       "      <th>pizza_category</th>\n",
       "      <th>pizza_ingredients</th>\n",
       "      <th>pizza_name</th>\n",
       "      <th>year</th>\n",
       "      <th>month</th>\n",
       "      <th>day</th>\n",
       "      <th>combined_datetime</th>\n",
       "    </tr>\n",
       "  </thead>\n",
       "  <tbody>\n",
       "    <tr>\n",
       "      <th>48615</th>\n",
       "      <td>48616</td>\n",
       "      <td>21348</td>\n",
       "      <td>ckn_alfredo_m</td>\n",
       "      <td>1</td>\n",
       "      <td>2015-12-31</td>\n",
       "      <td>21:23:10</td>\n",
       "      <td>16.75</td>\n",
       "      <td>16.75</td>\n",
       "      <td>M</td>\n",
       "      <td>Chicken</td>\n",
       "      <td>Chicken, Red Onions, Red Peppers, Mushrooms, A...</td>\n",
       "      <td>The Chicken Alfredo Pizza</td>\n",
       "      <td>2015</td>\n",
       "      <td>12</td>\n",
       "      <td>Thursday</td>\n",
       "      <td>2015-12-31 21:23:10</td>\n",
       "    </tr>\n",
       "    <tr>\n",
       "      <th>48616</th>\n",
       "      <td>48617</td>\n",
       "      <td>21348</td>\n",
       "      <td>four_cheese_l</td>\n",
       "      <td>1</td>\n",
       "      <td>2015-12-31</td>\n",
       "      <td>21:23:10</td>\n",
       "      <td>17.95</td>\n",
       "      <td>17.95</td>\n",
       "      <td>L</td>\n",
       "      <td>Veggie</td>\n",
       "      <td>Ricotta Cheese, Gorgonzola Piccante Cheese, Mo...</td>\n",
       "      <td>The Four Cheese Pizza</td>\n",
       "      <td>2015</td>\n",
       "      <td>12</td>\n",
       "      <td>Thursday</td>\n",
       "      <td>2015-12-31 21:23:10</td>\n",
       "    </tr>\n",
       "    <tr>\n",
       "      <th>48617</th>\n",
       "      <td>48618</td>\n",
       "      <td>21348</td>\n",
       "      <td>napolitana_s</td>\n",
       "      <td>1</td>\n",
       "      <td>2015-12-31</td>\n",
       "      <td>21:23:10</td>\n",
       "      <td>12.00</td>\n",
       "      <td>12.00</td>\n",
       "      <td>S</td>\n",
       "      <td>Classic</td>\n",
       "      <td>Tomatoes, Anchovies, Green Olives, Red Onions,...</td>\n",
       "      <td>The Napolitana Pizza</td>\n",
       "      <td>2015</td>\n",
       "      <td>12</td>\n",
       "      <td>Thursday</td>\n",
       "      <td>2015-12-31 21:23:10</td>\n",
       "    </tr>\n",
       "    <tr>\n",
       "      <th>48618</th>\n",
       "      <td>48619</td>\n",
       "      <td>21349</td>\n",
       "      <td>mexicana_l</td>\n",
       "      <td>1</td>\n",
       "      <td>2015-12-31</td>\n",
       "      <td>22:09:54</td>\n",
       "      <td>20.25</td>\n",
       "      <td>20.25</td>\n",
       "      <td>L</td>\n",
       "      <td>Veggie</td>\n",
       "      <td>Tomatoes, Red Peppers, Jalapeno Peppers, Red O...</td>\n",
       "      <td>The Mexicana Pizza</td>\n",
       "      <td>2015</td>\n",
       "      <td>12</td>\n",
       "      <td>Thursday</td>\n",
       "      <td>2015-12-31 22:09:54</td>\n",
       "    </tr>\n",
       "    <tr>\n",
       "      <th>48619</th>\n",
       "      <td>48620</td>\n",
       "      <td>21350</td>\n",
       "      <td>bbq_ckn_s</td>\n",
       "      <td>1</td>\n",
       "      <td>2015-12-31</td>\n",
       "      <td>23:02:05</td>\n",
       "      <td>12.75</td>\n",
       "      <td>12.75</td>\n",
       "      <td>S</td>\n",
       "      <td>Chicken</td>\n",
       "      <td>Barbecued Chicken, Red Peppers, Green Peppers,...</td>\n",
       "      <td>The Barbecue Chicken Pizza</td>\n",
       "      <td>2015</td>\n",
       "      <td>12</td>\n",
       "      <td>Thursday</td>\n",
       "      <td>2015-12-31 23:02:05</td>\n",
       "    </tr>\n",
       "  </tbody>\n",
       "</table>\n",
       "</div>"
      ],
      "text/plain": [
       "       order_details_id  order_id       pizza_id  quantity order_date  \\\n",
       "48615             48616     21348  ckn_alfredo_m         1 2015-12-31   \n",
       "48616             48617     21348  four_cheese_l         1 2015-12-31   \n",
       "48617             48618     21348   napolitana_s         1 2015-12-31   \n",
       "48618             48619     21349     mexicana_l         1 2015-12-31   \n",
       "48619             48620     21350      bbq_ckn_s         1 2015-12-31   \n",
       "\n",
       "      order_time  unit_price  total_price pizza_size pizza_category  \\\n",
       "48615   21:23:10       16.75        16.75          M        Chicken   \n",
       "48616   21:23:10       17.95        17.95          L         Veggie   \n",
       "48617   21:23:10       12.00        12.00          S        Classic   \n",
       "48618   22:09:54       20.25        20.25          L         Veggie   \n",
       "48619   23:02:05       12.75        12.75          S        Chicken   \n",
       "\n",
       "                                       pizza_ingredients  \\\n",
       "48615  Chicken, Red Onions, Red Peppers, Mushrooms, A...   \n",
       "48616  Ricotta Cheese, Gorgonzola Piccante Cheese, Mo...   \n",
       "48617  Tomatoes, Anchovies, Green Olives, Red Onions,...   \n",
       "48618  Tomatoes, Red Peppers, Jalapeno Peppers, Red O...   \n",
       "48619  Barbecued Chicken, Red Peppers, Green Peppers,...   \n",
       "\n",
       "                       pizza_name  year  month       day   combined_datetime  \n",
       "48615   The Chicken Alfredo Pizza  2015     12  Thursday 2015-12-31 21:23:10  \n",
       "48616       The Four Cheese Pizza  2015     12  Thursday 2015-12-31 21:23:10  \n",
       "48617        The Napolitana Pizza  2015     12  Thursday 2015-12-31 21:23:10  \n",
       "48618          The Mexicana Pizza  2015     12  Thursday 2015-12-31 22:09:54  \n",
       "48619  The Barbecue Chicken Pizza  2015     12  Thursday 2015-12-31 23:02:05  "
      ]
     },
     "execution_count": 147,
     "metadata": {},
     "output_type": "execute_result"
    }
   ],
   "source": [
    "df.tail()"
   ]
  },
  {
   "cell_type": "code",
   "execution_count": 148,
   "id": "2cb36cdf",
   "metadata": {
    "scrolled": true
   },
   "outputs": [
    {
     "name": "stdout",
     "output_type": "stream",
     "text": [
      "[ 1  2  3  4  5  6  7  8  9 10 11 12]\n",
      "[2015]\n",
      "['Thursday' 'Friday' 'Saturday' 'Sunday' 'Monday' 'Tuesday' 'Wednesday']\n"
     ]
    }
   ],
   "source": [
    "print(df['month'].unique())\n",
    "print(df['year'].unique())\n",
    "print(df['day'].unique())\n",
    "\n"
   ]
  },
  {
   "cell_type": "markdown",
   "id": "58a60d0b",
   "metadata": {},
   "source": [
    "Notre jeu de données présente des données de commandes allant du lundi au dimanche.  \n",
    "Or la consigne indique :   \n",
    "*\" Du mardi au vendredi, les clients peuvent se régaler, en se rendant à la sortie métro Joliette entre\n",
    "11h et 21h. \"*  \n",
    "\n",
    "Je décide de retirer de mon dataframe les données de samedi, dimanche, lundi."
   ]
  },
  {
   "cell_type": "markdown",
   "id": "cebf32ca",
   "metadata": {},
   "source": [
    "ferie = ['Saturday','Sunday','Monday']\n",
    "df.loc[~df['day'].isin(ferie)]['day'].unique()\n"
   ]
  },
  {
   "cell_type": "markdown",
   "id": "483168fa",
   "metadata": {},
   "source": [
    "df = df.loc[~df['day'].isin(ferie),:]"
   ]
  },
  {
   "cell_type": "markdown",
   "id": "42cf97a9",
   "metadata": {},
   "source": [
    "## Informations de base :\n",
    "### a. Combien de pizzas uniques (pizza_id distincts) y a-t-il dans le jeu de données ?"
   ]
  },
  {
   "cell_type": "code",
   "execution_count": 149,
   "id": "e6de987d",
   "metadata": {},
   "outputs": [
    {
     "data": {
      "text/plain": [
       "91"
      ]
     },
     "execution_count": 149,
     "metadata": {},
     "output_type": "execute_result"
    }
   ],
   "source": [
    "df['pizza_id'].nunique()"
   ]
  },
  {
   "cell_type": "markdown",
   "id": "1de72917",
   "metadata": {},
   "source": [
    "### b. Combien de commandes uniques (order_id distincts) figurent dans le jeu de données ?"
   ]
  },
  {
   "cell_type": "code",
   "execution_count": 150,
   "id": "c6e95e0e",
   "metadata": {},
   "outputs": [
    {
     "data": {
      "text/plain": [
       "21350"
      ]
     },
     "execution_count": 150,
     "metadata": {},
     "output_type": "execute_result"
    }
   ],
   "source": [
    "df['order_id'].nunique()"
   ]
  },
  {
   "cell_type": "markdown",
   "id": "27ce18d9",
   "metadata": {},
   "source": [
    "## 3. Analyse temporelle :\n",
    "### a. Quelle est la plage de dates dans le jeu de données ?"
   ]
  },
  {
   "cell_type": "code",
   "execution_count": 151,
   "id": "dfa40523",
   "metadata": {},
   "outputs": [
    {
     "data": {
      "text/plain": [
       "Timestamp('2015-01-01 00:00:00')"
      ]
     },
     "execution_count": 151,
     "metadata": {},
     "output_type": "execute_result"
    }
   ],
   "source": [
    "df['order_date'].min()"
   ]
  },
  {
   "cell_type": "code",
   "execution_count": 152,
   "id": "73c04dea",
   "metadata": {},
   "outputs": [
    {
     "data": {
      "text/plain": [
       "Timestamp('2015-12-31 00:00:00')"
      ]
     },
     "execution_count": 152,
     "metadata": {},
     "output_type": "execute_result"
    }
   ],
   "source": [
    "df['order_date'].max()"
   ]
  },
  {
   "cell_type": "code",
   "execution_count": 153,
   "id": "b845831c",
   "metadata": {},
   "outputs": [
    {
     "data": {
      "text/plain": [
       "datetime.time(9, 52, 21)"
      ]
     },
     "execution_count": 153,
     "metadata": {},
     "output_type": "execute_result"
    }
   ],
   "source": [
    "df['order_time'].min()"
   ]
  },
  {
   "cell_type": "code",
   "execution_count": 154,
   "id": "d9b3f3da",
   "metadata": {
    "scrolled": true
   },
   "outputs": [
    {
     "data": {
      "text/plain": [
       "datetime.time(23, 5, 52)"
      ]
     },
     "execution_count": 154,
     "metadata": {},
     "output_type": "execute_result"
    }
   ],
   "source": [
    "df['order_time'].max()"
   ]
  },
  {
   "cell_type": "markdown",
   "id": "7bad0f6f",
   "metadata": {},
   "source": [
    "On remarque que des commandes sont passées avant et après les horaires d'ouverture et fermeture mais cela peut s'expliquer par un pic d'activité.  \n",
    "C'est la raison pour laquelle je décide de garder ces données."
   ]
  },
  {
   "cell_type": "markdown",
   "id": "0f9c06c4",
   "metadata": {},
   "source": [
    "### b. Combien de commandes ont été passées chaque jour ?"
   ]
  },
  {
   "cell_type": "code",
   "execution_count": 155,
   "id": "ce25ad18",
   "metadata": {
    "scrolled": true
   },
   "outputs": [
    {
     "data": {
      "text/plain": [
       "order_date\n",
       "2015-01-01    161\n",
       "2015-01-02    160\n",
       "2015-01-03    154\n",
       "2015-01-04    106\n",
       "2015-01-05    121\n",
       "             ... \n",
       "2015-12-27     87\n",
       "2015-12-28    102\n",
       "2015-12-29     77\n",
       "2015-12-30     73\n",
       "2015-12-31    171\n",
       "Name: order_id, Length: 358, dtype: int64"
      ]
     },
     "execution_count": 155,
     "metadata": {},
     "output_type": "execute_result"
    }
   ],
   "source": [
    "df.groupby('order_date')['order_id'].count()"
   ]
  },
  {
   "cell_type": "code",
   "execution_count": 156,
   "id": "f4b96bb1",
   "metadata": {},
   "outputs": [
    {
     "name": "stdout",
     "output_type": "stream",
     "text": [
      "<class 'pandas.core.frame.DataFrame'>\n",
      "RangeIndex: 48620 entries, 0 to 48619\n",
      "Data columns (total 16 columns):\n",
      " #   Column             Non-Null Count  Dtype         \n",
      "---  ------             --------------  -----         \n",
      " 0   order_details_id   48620 non-null  int64         \n",
      " 1   order_id           48620 non-null  int64         \n",
      " 2   pizza_id           48620 non-null  object        \n",
      " 3   quantity           48620 non-null  int64         \n",
      " 4   order_date         48620 non-null  datetime64[ns]\n",
      " 5   order_time         48620 non-null  object        \n",
      " 6   unit_price         48620 non-null  float64       \n",
      " 7   total_price        48620 non-null  float64       \n",
      " 8   pizza_size         48620 non-null  object        \n",
      " 9   pizza_category     48620 non-null  object        \n",
      " 10  pizza_ingredients  48620 non-null  object        \n",
      " 11  pizza_name         48620 non-null  object        \n",
      " 12  year               48620 non-null  int32         \n",
      " 13  month              48620 non-null  int32         \n",
      " 14  day                48620 non-null  object        \n",
      " 15  combined_datetime  48620 non-null  datetime64[ns]\n",
      "dtypes: datetime64[ns](2), float64(2), int32(2), int64(3), object(7)\n",
      "memory usage: 5.6+ MB\n"
     ]
    }
   ],
   "source": [
    "df.info()"
   ]
  },
  {
   "cell_type": "markdown",
   "id": "36a85b79",
   "metadata": {},
   "source": [
    "c. Quelle est la durée moyenne pour traiter une commande ?"
   ]
  },
  {
   "cell_type": "code",
   "execution_count": 157,
   "id": "846c273e",
   "metadata": {},
   "outputs": [],
   "source": [
    "# Conversion de la colonne order_time au format datetime\n",
    "df['order_time'] = pd.to_datetime(df['order_time'], format=\"%H:%M:%S\")\n",
    "\n",
    "# Fonction pour calculer l'intervalle de temps entre chaque commande\n",
    "def calculate_time_difference(row):\n",
    "    if calculate_time_difference.prev_time is None:\n",
    "        calculate_time_difference.prev_time = row\n",
    "        return pd.Timedelta(0)  # Pour la première ligne, la différence est 0\n",
    "    else:\n",
    "        time_difference = row - calculate_time_difference.prev_time\n",
    "        calculate_time_difference.prev_time = row\n",
    "        return time_difference\n",
    "\n",
    "# Initialisez la variable statique pour stocker le timestamp précédent\n",
    "calculate_time_difference.prev_time = None\n",
    "\n",
    "# Appliquez la fonction à toute la colonne\n",
    "df['time_difference'] = df['order_time'].apply(calculate_time_difference)\n",
    "\n"
   ]
  },
  {
   "cell_type": "code",
   "execution_count": 158,
   "id": "b7db5dc8",
   "metadata": {},
   "outputs": [
    {
     "name": "stdout",
     "output_type": "stream",
     "text": [
      "La durée moyenne de traitement d'une commande est de:  0 days 00:05:25.668009367\n"
     ]
    }
   ],
   "source": [
    "# Je regroupe mes commandes afin d'avoir la moyenne du temps de préparation.\n",
    "print('La durée moyenne de traitement d\\'une commande est de: ',df.groupby('order_id')['time_difference'].max().mean())"
   ]
  },
  {
   "cell_type": "markdown",
   "id": "0bd5f34a",
   "metadata": {},
   "source": [
    "## 4. Analyse de la quantité :\n",
    "### a. Quelle est la quantité moyenne de pizzas commandées ?"
   ]
  },
  {
   "cell_type": "code",
   "execution_count": 199,
   "id": "bc171c19",
   "metadata": {},
   "outputs": [
    {
     "name": "stdout",
     "output_type": "stream",
     "text": [
      "La quantité moyenne de pizzas commandées est: 2.321967213114754\n"
     ]
    }
   ],
   "source": [
    "print('La quantité moyenne de pizzas commandées est:', df.groupby(['order_id'])['quantity'].sum().mean())"
   ]
  },
  {
   "cell_type": "markdown",
   "id": "7dc10697",
   "metadata": {},
   "source": [
    "### b. Quelle est la taille de pizza la plus fréquemment commandée ?"
   ]
  },
  {
   "cell_type": "code",
   "execution_count": 160,
   "id": "092fc41d",
   "metadata": {},
   "outputs": [
    {
     "name": "stdout",
     "output_type": "stream",
     "text": [
      "Tailles de pizza proposées : ['M' 'L' 'S' 'XL' 'XXL']\n"
     ]
    }
   ],
   "source": [
    "print(\"Tailles de pizza proposées :\",df['pizza_size'].unique())"
   ]
  },
  {
   "cell_type": "code",
   "execution_count": 202,
   "id": "c0b62fac",
   "metadata": {},
   "outputs": [
    {
     "data": {
      "text/html": [
       "<div>\n",
       "<style scoped>\n",
       "    .dataframe tbody tr th:only-of-type {\n",
       "        vertical-align: middle;\n",
       "    }\n",
       "\n",
       "    .dataframe tbody tr th {\n",
       "        vertical-align: top;\n",
       "    }\n",
       "\n",
       "    .dataframe thead th {\n",
       "        text-align: right;\n",
       "    }\n",
       "</style>\n",
       "<table border=\"1\" class=\"dataframe\">\n",
       "  <thead>\n",
       "    <tr style=\"text-align: right;\">\n",
       "      <th></th>\n",
       "      <th>order_details_id</th>\n",
       "      <th>order_id</th>\n",
       "      <th>pizza_id</th>\n",
       "      <th>quantity</th>\n",
       "      <th>order_date</th>\n",
       "      <th>order_time</th>\n",
       "      <th>unit_price</th>\n",
       "      <th>total_price</th>\n",
       "      <th>pizza_size</th>\n",
       "      <th>pizza_category</th>\n",
       "      <th>pizza_ingredients</th>\n",
       "      <th>pizza_name</th>\n",
       "      <th>year</th>\n",
       "      <th>month</th>\n",
       "      <th>day</th>\n",
       "      <th>combined_datetime</th>\n",
       "      <th>time_difference</th>\n",
       "      <th>hours</th>\n",
       "    </tr>\n",
       "  </thead>\n",
       "  <tbody>\n",
       "    <tr>\n",
       "      <th>0</th>\n",
       "      <td>1</td>\n",
       "      <td>1</td>\n",
       "      <td>hawaiian_m</td>\n",
       "      <td>1</td>\n",
       "      <td>2015-01-01</td>\n",
       "      <td>1900-01-01 11:38:36</td>\n",
       "      <td>13.25</td>\n",
       "      <td>13.25</td>\n",
       "      <td>M</td>\n",
       "      <td>Classic</td>\n",
       "      <td>Sliced Ham, Pineapple, Mozzarella Cheese</td>\n",
       "      <td>The Hawaiian Pizza</td>\n",
       "      <td>2015</td>\n",
       "      <td>1</td>\n",
       "      <td>Thursday</td>\n",
       "      <td>2015-01-01 11:38:36</td>\n",
       "      <td>0 days 00:00:00</td>\n",
       "      <td>11</td>\n",
       "    </tr>\n",
       "    <tr>\n",
       "      <th>1</th>\n",
       "      <td>2</td>\n",
       "      <td>2</td>\n",
       "      <td>classic_dlx_m</td>\n",
       "      <td>1</td>\n",
       "      <td>2015-01-01</td>\n",
       "      <td>1900-01-01 11:57:40</td>\n",
       "      <td>16.00</td>\n",
       "      <td>16.00</td>\n",
       "      <td>M</td>\n",
       "      <td>Classic</td>\n",
       "      <td>Pepperoni, Mushrooms, Red Onions, Red Peppers,...</td>\n",
       "      <td>The Classic Deluxe Pizza</td>\n",
       "      <td>2015</td>\n",
       "      <td>1</td>\n",
       "      <td>Thursday</td>\n",
       "      <td>2015-01-01 11:57:40</td>\n",
       "      <td>0 days 00:19:04</td>\n",
       "      <td>11</td>\n",
       "    </tr>\n",
       "    <tr>\n",
       "      <th>2</th>\n",
       "      <td>3</td>\n",
       "      <td>2</td>\n",
       "      <td>five_cheese_l</td>\n",
       "      <td>1</td>\n",
       "      <td>2015-01-01</td>\n",
       "      <td>1900-01-01 11:57:40</td>\n",
       "      <td>18.50</td>\n",
       "      <td>18.50</td>\n",
       "      <td>L</td>\n",
       "      <td>Veggie</td>\n",
       "      <td>Mozzarella Cheese, Provolone Cheese, Smoked Go...</td>\n",
       "      <td>The Five Cheese Pizza</td>\n",
       "      <td>2015</td>\n",
       "      <td>1</td>\n",
       "      <td>Thursday</td>\n",
       "      <td>2015-01-01 11:57:40</td>\n",
       "      <td>0 days 00:00:00</td>\n",
       "      <td>11</td>\n",
       "    </tr>\n",
       "    <tr>\n",
       "      <th>3</th>\n",
       "      <td>4</td>\n",
       "      <td>2</td>\n",
       "      <td>ital_supr_l</td>\n",
       "      <td>1</td>\n",
       "      <td>2015-01-01</td>\n",
       "      <td>1900-01-01 11:57:40</td>\n",
       "      <td>20.75</td>\n",
       "      <td>20.75</td>\n",
       "      <td>L</td>\n",
       "      <td>Supreme</td>\n",
       "      <td>Calabrese Salami, Capocollo, Tomatoes, Red Oni...</td>\n",
       "      <td>The Italian Supreme Pizza</td>\n",
       "      <td>2015</td>\n",
       "      <td>1</td>\n",
       "      <td>Thursday</td>\n",
       "      <td>2015-01-01 11:57:40</td>\n",
       "      <td>0 days 00:00:00</td>\n",
       "      <td>11</td>\n",
       "    </tr>\n",
       "    <tr>\n",
       "      <th>4</th>\n",
       "      <td>5</td>\n",
       "      <td>2</td>\n",
       "      <td>mexicana_m</td>\n",
       "      <td>1</td>\n",
       "      <td>2015-01-01</td>\n",
       "      <td>1900-01-01 11:57:40</td>\n",
       "      <td>16.00</td>\n",
       "      <td>16.00</td>\n",
       "      <td>M</td>\n",
       "      <td>Veggie</td>\n",
       "      <td>Tomatoes, Red Peppers, Jalapeno Peppers, Red O...</td>\n",
       "      <td>The Mexicana Pizza</td>\n",
       "      <td>2015</td>\n",
       "      <td>1</td>\n",
       "      <td>Thursday</td>\n",
       "      <td>2015-01-01 11:57:40</td>\n",
       "      <td>0 days 00:00:00</td>\n",
       "      <td>11</td>\n",
       "    </tr>\n",
       "    <tr>\n",
       "      <th>...</th>\n",
       "      <td>...</td>\n",
       "      <td>...</td>\n",
       "      <td>...</td>\n",
       "      <td>...</td>\n",
       "      <td>...</td>\n",
       "      <td>...</td>\n",
       "      <td>...</td>\n",
       "      <td>...</td>\n",
       "      <td>...</td>\n",
       "      <td>...</td>\n",
       "      <td>...</td>\n",
       "      <td>...</td>\n",
       "      <td>...</td>\n",
       "      <td>...</td>\n",
       "      <td>...</td>\n",
       "      <td>...</td>\n",
       "      <td>...</td>\n",
       "      <td>...</td>\n",
       "    </tr>\n",
       "    <tr>\n",
       "      <th>48615</th>\n",
       "      <td>48616</td>\n",
       "      <td>21348</td>\n",
       "      <td>ckn_alfredo_m</td>\n",
       "      <td>1</td>\n",
       "      <td>2015-12-31</td>\n",
       "      <td>1900-01-01 21:23:10</td>\n",
       "      <td>16.75</td>\n",
       "      <td>16.75</td>\n",
       "      <td>M</td>\n",
       "      <td>Chicken</td>\n",
       "      <td>Chicken, Red Onions, Red Peppers, Mushrooms, A...</td>\n",
       "      <td>The Chicken Alfredo Pizza</td>\n",
       "      <td>2015</td>\n",
       "      <td>12</td>\n",
       "      <td>Thursday</td>\n",
       "      <td>2015-12-31 21:23:10</td>\n",
       "      <td>0 days 00:08:33</td>\n",
       "      <td>21</td>\n",
       "    </tr>\n",
       "    <tr>\n",
       "      <th>48616</th>\n",
       "      <td>48617</td>\n",
       "      <td>21348</td>\n",
       "      <td>four_cheese_l</td>\n",
       "      <td>1</td>\n",
       "      <td>2015-12-31</td>\n",
       "      <td>1900-01-01 21:23:10</td>\n",
       "      <td>17.95</td>\n",
       "      <td>17.95</td>\n",
       "      <td>L</td>\n",
       "      <td>Veggie</td>\n",
       "      <td>Ricotta Cheese, Gorgonzola Piccante Cheese, Mo...</td>\n",
       "      <td>The Four Cheese Pizza</td>\n",
       "      <td>2015</td>\n",
       "      <td>12</td>\n",
       "      <td>Thursday</td>\n",
       "      <td>2015-12-31 21:23:10</td>\n",
       "      <td>0 days 00:00:00</td>\n",
       "      <td>21</td>\n",
       "    </tr>\n",
       "    <tr>\n",
       "      <th>48617</th>\n",
       "      <td>48618</td>\n",
       "      <td>21348</td>\n",
       "      <td>napolitana_s</td>\n",
       "      <td>1</td>\n",
       "      <td>2015-12-31</td>\n",
       "      <td>1900-01-01 21:23:10</td>\n",
       "      <td>12.00</td>\n",
       "      <td>12.00</td>\n",
       "      <td>S</td>\n",
       "      <td>Classic</td>\n",
       "      <td>Tomatoes, Anchovies, Green Olives, Red Onions,...</td>\n",
       "      <td>The Napolitana Pizza</td>\n",
       "      <td>2015</td>\n",
       "      <td>12</td>\n",
       "      <td>Thursday</td>\n",
       "      <td>2015-12-31 21:23:10</td>\n",
       "      <td>0 days 00:00:00</td>\n",
       "      <td>21</td>\n",
       "    </tr>\n",
       "    <tr>\n",
       "      <th>48618</th>\n",
       "      <td>48619</td>\n",
       "      <td>21349</td>\n",
       "      <td>mexicana_l</td>\n",
       "      <td>1</td>\n",
       "      <td>2015-12-31</td>\n",
       "      <td>1900-01-01 22:09:54</td>\n",
       "      <td>20.25</td>\n",
       "      <td>20.25</td>\n",
       "      <td>L</td>\n",
       "      <td>Veggie</td>\n",
       "      <td>Tomatoes, Red Peppers, Jalapeno Peppers, Red O...</td>\n",
       "      <td>The Mexicana Pizza</td>\n",
       "      <td>2015</td>\n",
       "      <td>12</td>\n",
       "      <td>Thursday</td>\n",
       "      <td>2015-12-31 22:09:54</td>\n",
       "      <td>0 days 00:46:44</td>\n",
       "      <td>22</td>\n",
       "    </tr>\n",
       "    <tr>\n",
       "      <th>48619</th>\n",
       "      <td>48620</td>\n",
       "      <td>21350</td>\n",
       "      <td>bbq_ckn_s</td>\n",
       "      <td>1</td>\n",
       "      <td>2015-12-31</td>\n",
       "      <td>1900-01-01 23:02:05</td>\n",
       "      <td>12.75</td>\n",
       "      <td>12.75</td>\n",
       "      <td>S</td>\n",
       "      <td>Chicken</td>\n",
       "      <td>Barbecued Chicken, Red Peppers, Green Peppers,...</td>\n",
       "      <td>The Barbecue Chicken Pizza</td>\n",
       "      <td>2015</td>\n",
       "      <td>12</td>\n",
       "      <td>Thursday</td>\n",
       "      <td>2015-12-31 23:02:05</td>\n",
       "      <td>0 days 00:52:11</td>\n",
       "      <td>23</td>\n",
       "    </tr>\n",
       "  </tbody>\n",
       "</table>\n",
       "<p>48620 rows × 18 columns</p>\n",
       "</div>"
      ],
      "text/plain": [
       "       order_details_id  order_id       pizza_id  quantity order_date  \\\n",
       "0                     1         1     hawaiian_m         1 2015-01-01   \n",
       "1                     2         2  classic_dlx_m         1 2015-01-01   \n",
       "2                     3         2  five_cheese_l         1 2015-01-01   \n",
       "3                     4         2    ital_supr_l         1 2015-01-01   \n",
       "4                     5         2     mexicana_m         1 2015-01-01   \n",
       "...                 ...       ...            ...       ...        ...   \n",
       "48615             48616     21348  ckn_alfredo_m         1 2015-12-31   \n",
       "48616             48617     21348  four_cheese_l         1 2015-12-31   \n",
       "48617             48618     21348   napolitana_s         1 2015-12-31   \n",
       "48618             48619     21349     mexicana_l         1 2015-12-31   \n",
       "48619             48620     21350      bbq_ckn_s         1 2015-12-31   \n",
       "\n",
       "               order_time  unit_price  total_price pizza_size pizza_category  \\\n",
       "0     1900-01-01 11:38:36       13.25        13.25          M        Classic   \n",
       "1     1900-01-01 11:57:40       16.00        16.00          M        Classic   \n",
       "2     1900-01-01 11:57:40       18.50        18.50          L         Veggie   \n",
       "3     1900-01-01 11:57:40       20.75        20.75          L        Supreme   \n",
       "4     1900-01-01 11:57:40       16.00        16.00          M         Veggie   \n",
       "...                   ...         ...          ...        ...            ...   \n",
       "48615 1900-01-01 21:23:10       16.75        16.75          M        Chicken   \n",
       "48616 1900-01-01 21:23:10       17.95        17.95          L         Veggie   \n",
       "48617 1900-01-01 21:23:10       12.00        12.00          S        Classic   \n",
       "48618 1900-01-01 22:09:54       20.25        20.25          L         Veggie   \n",
       "48619 1900-01-01 23:02:05       12.75        12.75          S        Chicken   \n",
       "\n",
       "                                       pizza_ingredients  \\\n",
       "0               Sliced Ham, Pineapple, Mozzarella Cheese   \n",
       "1      Pepperoni, Mushrooms, Red Onions, Red Peppers,...   \n",
       "2      Mozzarella Cheese, Provolone Cheese, Smoked Go...   \n",
       "3      Calabrese Salami, Capocollo, Tomatoes, Red Oni...   \n",
       "4      Tomatoes, Red Peppers, Jalapeno Peppers, Red O...   \n",
       "...                                                  ...   \n",
       "48615  Chicken, Red Onions, Red Peppers, Mushrooms, A...   \n",
       "48616  Ricotta Cheese, Gorgonzola Piccante Cheese, Mo...   \n",
       "48617  Tomatoes, Anchovies, Green Olives, Red Onions,...   \n",
       "48618  Tomatoes, Red Peppers, Jalapeno Peppers, Red O...   \n",
       "48619  Barbecued Chicken, Red Peppers, Green Peppers,...   \n",
       "\n",
       "                       pizza_name  year  month       day   combined_datetime  \\\n",
       "0              The Hawaiian Pizza  2015      1  Thursday 2015-01-01 11:38:36   \n",
       "1        The Classic Deluxe Pizza  2015      1  Thursday 2015-01-01 11:57:40   \n",
       "2           The Five Cheese Pizza  2015      1  Thursday 2015-01-01 11:57:40   \n",
       "3       The Italian Supreme Pizza  2015      1  Thursday 2015-01-01 11:57:40   \n",
       "4              The Mexicana Pizza  2015      1  Thursday 2015-01-01 11:57:40   \n",
       "...                           ...   ...    ...       ...                 ...   \n",
       "48615   The Chicken Alfredo Pizza  2015     12  Thursday 2015-12-31 21:23:10   \n",
       "48616       The Four Cheese Pizza  2015     12  Thursday 2015-12-31 21:23:10   \n",
       "48617        The Napolitana Pizza  2015     12  Thursday 2015-12-31 21:23:10   \n",
       "48618          The Mexicana Pizza  2015     12  Thursday 2015-12-31 22:09:54   \n",
       "48619  The Barbecue Chicken Pizza  2015     12  Thursday 2015-12-31 23:02:05   \n",
       "\n",
       "      time_difference hours  \n",
       "0     0 days 00:00:00    11  \n",
       "1     0 days 00:19:04    11  \n",
       "2     0 days 00:00:00    11  \n",
       "3     0 days 00:00:00    11  \n",
       "4     0 days 00:00:00    11  \n",
       "...               ...   ...  \n",
       "48615 0 days 00:08:33    21  \n",
       "48616 0 days 00:00:00    21  \n",
       "48617 0 days 00:00:00    21  \n",
       "48618 0 days 00:46:44    22  \n",
       "48619 0 days 00:52:11    23  \n",
       "\n",
       "[48620 rows x 18 columns]"
      ]
     },
     "execution_count": 202,
     "metadata": {},
     "output_type": "execute_result"
    }
   ],
   "source": [
    "df"
   ]
  },
  {
   "cell_type": "code",
   "execution_count": 161,
   "id": "9facc13b",
   "metadata": {},
   "outputs": [
    {
     "data": {
      "text/plain": [
       "pizza_size\n",
       "L      18526\n",
       "M      15385\n",
       "S      14137\n",
       "XL       544\n",
       "XXL       28\n",
       "Name: count, dtype: int64"
      ]
     },
     "execution_count": 161,
     "metadata": {},
     "output_type": "execute_result"
    }
   ],
   "source": [
    "df['pizza_size'].value_counts()"
   ]
  },
  {
   "cell_type": "markdown",
   "id": "b264dfec",
   "metadata": {},
   "source": [
    "La taille de pizza la plus fréquemment commandée est la taille **\"L\"**."
   ]
  },
  {
   "cell_type": "markdown",
   "id": "e76213f2",
   "metadata": {},
   "source": [
    "### c. Quelle est la catégorie de pizza la plus fréquemment commandée ?"
   ]
  },
  {
   "cell_type": "code",
   "execution_count": 162,
   "id": "347add10",
   "metadata": {
    "scrolled": true
   },
   "outputs": [
    {
     "name": "stdout",
     "output_type": "stream",
     "text": [
      "Liste des catégories de pizza: ['Classic' 'Veggie' 'Supreme' 'Chicken']\n"
     ]
    }
   ],
   "source": [
    "print(\"Liste des catégories de pizza:\",df['pizza_category'].unique())"
   ]
  },
  {
   "cell_type": "code",
   "execution_count": 163,
   "id": "32147a72",
   "metadata": {},
   "outputs": [
    {
     "data": {
      "text/plain": [
       "pizza_category\n",
       "Classic    14579\n",
       "Supreme    11777\n",
       "Veggie     11449\n",
       "Chicken    10815\n",
       "Name: count, dtype: int64"
      ]
     },
     "execution_count": 163,
     "metadata": {},
     "output_type": "execute_result"
    }
   ],
   "source": [
    "df['pizza_category'].value_counts()"
   ]
  },
  {
   "cell_type": "markdown",
   "id": "53c0a7a8",
   "metadata": {},
   "source": [
    "La catégorie de pizza la plus commandée est la **Classic**."
   ]
  },
  {
   "cell_type": "markdown",
   "id": "7ba35510",
   "metadata": {},
   "source": [
    "## 5. Analyse des prix :\n",
    "### a. Quel est le prix unitaire moyen des pizzas ?"
   ]
  },
  {
   "cell_type": "code",
   "execution_count": 164,
   "id": "20fc6ee0",
   "metadata": {},
   "outputs": [
    {
     "name": "stdout",
     "output_type": "stream",
     "text": [
      "Prix moyen d'une pizza classé par catégorie et par taille\n"
     ]
    },
    {
     "data": {
      "text/plain": [
       "pizza_category  pizza_size\n",
       "Chicken         L             20.750000\n",
       "                M             16.750000\n",
       "                S             12.750000\n",
       "Classic         L             18.376850\n",
       "                M             14.739122\n",
       "                S             11.375021\n",
       "                XL            25.500000\n",
       "                XXL           35.950000\n",
       "Supreme         L             20.652837\n",
       "                M             16.429972\n",
       "                S             14.048149\n",
       "Veggie          L             19.295383\n",
       "                M             15.938485\n",
       "                S             12.161352\n",
       "Name: unit_price, dtype: float64"
      ]
     },
     "execution_count": 164,
     "metadata": {},
     "output_type": "execute_result"
    }
   ],
   "source": [
    "print(\"Prix moyen d'une pizza classé par catégorie et par taille\")\n",
    "df.groupby(['pizza_category','pizza_size'])['unit_price'].mean()"
   ]
  },
  {
   "cell_type": "code",
   "execution_count": 165,
   "id": "e900b8ca",
   "metadata": {},
   "outputs": [
    {
     "name": "stdout",
     "output_type": "stream",
     "text": [
      "Prix moyen d'une pizza (categories et tailles confondues) 16.494132044426163\n"
     ]
    }
   ],
   "source": [
    "print(\"Prix moyen d'une pizza (categories et tailles confondues)\",df['unit_price'].mean())"
   ]
  },
  {
   "cell_type": "markdown",
   "id": "f91d5631",
   "metadata": {},
   "source": [
    "### b. Quel est le prix total moyen d'une commande ?"
   ]
  },
  {
   "cell_type": "code",
   "execution_count": 166,
   "id": "2aa8335f",
   "metadata": {},
   "outputs": [
    {
     "data": {
      "text/plain": [
       "16.727513032556825"
      ]
     },
     "execution_count": 166,
     "metadata": {},
     "output_type": "execute_result"
    }
   ],
   "source": [
    "df.groupby('order_id')['total_price'].mean().mean()"
   ]
  },
  {
   "cell_type": "markdown",
   "id": "0b784890",
   "metadata": {},
   "source": [
    "### c. Quelle pizza a le prix unitaire le plus élevé ?"
   ]
  },
  {
   "cell_type": "code",
   "execution_count": 167,
   "id": "406f08e2",
   "metadata": {},
   "outputs": [
    {
     "data": {
      "text/html": [
       "<div>\n",
       "<style scoped>\n",
       "    .dataframe tbody tr th:only-of-type {\n",
       "        vertical-align: middle;\n",
       "    }\n",
       "\n",
       "    .dataframe tbody tr th {\n",
       "        vertical-align: top;\n",
       "    }\n",
       "\n",
       "    .dataframe thead th {\n",
       "        text-align: right;\n",
       "    }\n",
       "</style>\n",
       "<table border=\"1\" class=\"dataframe\">\n",
       "  <thead>\n",
       "    <tr style=\"text-align: right;\">\n",
       "      <th></th>\n",
       "      <th>pizza_name</th>\n",
       "      <th>unit_price</th>\n",
       "    </tr>\n",
       "  </thead>\n",
       "  <tbody>\n",
       "    <tr>\n",
       "      <th>3447</th>\n",
       "      <td>The Greek Pizza</td>\n",
       "      <td>35.95</td>\n",
       "    </tr>\n",
       "  </tbody>\n",
       "</table>\n",
       "</div>"
      ],
      "text/plain": [
       "           pizza_name  unit_price\n",
       "3447  The Greek Pizza       35.95"
      ]
     },
     "execution_count": 167,
     "metadata": {},
     "output_type": "execute_result"
    }
   ],
   "source": [
    "df.loc[df['unit_price']==df['unit_price'].max()][['pizza_name','unit_price']].head(1)"
   ]
  },
  {
   "cell_type": "markdown",
   "id": "8a3c7b62",
   "metadata": {},
   "source": [
    "## 6. Répartition par taille et catégorie :\n",
    "### a. Combien de pizzas de chaque taille ont été vendues ?"
   ]
  },
  {
   "cell_type": "code",
   "execution_count": 168,
   "id": "d0602610",
   "metadata": {},
   "outputs": [
    {
     "data": {
      "text/plain": [
       "pizza_size\n",
       "L      18956\n",
       "M      15635\n",
       "S      14403\n",
       "XL       552\n",
       "XXL       28\n",
       "Name: quantity, dtype: int64"
      ]
     },
     "execution_count": 168,
     "metadata": {},
     "output_type": "execute_result"
    }
   ],
   "source": [
    "df.groupby(['pizza_size'])['quantity'].sum()"
   ]
  },
  {
   "cell_type": "markdown",
   "id": "d204127a",
   "metadata": {},
   "source": [
    "### b. Combien de pizzas y a-t-il dans chaque catégorie ?"
   ]
  },
  {
   "cell_type": "code",
   "execution_count": 169,
   "id": "ce825234",
   "metadata": {},
   "outputs": [
    {
     "data": {
      "text/plain": [
       "pizza_category\n",
       "Chicken    6\n",
       "Classic    8\n",
       "Supreme    9\n",
       "Veggie     9\n",
       "Name: pizza_name, dtype: int64"
      ]
     },
     "execution_count": 169,
     "metadata": {},
     "output_type": "execute_result"
    }
   ],
   "source": [
    "df.groupby('pizza_category')['pizza_name'].nunique()"
   ]
  },
  {
   "cell_type": "markdown",
   "id": "ce3947c2",
   "metadata": {},
   "source": [
    "## 7. Analyse des ingrédients :\n",
    "### a. Quels sont les ingrédients les plus couramment utilisés dans toutes les pizzas ?"
   ]
  },
  {
   "cell_type": "code",
   "execution_count": 170,
   "id": "de2d1de0",
   "metadata": {},
   "outputs": [
    {
     "name": "stdout",
     "output_type": "stream",
     "text": [
      "Top 5 des ingrédients les plus utilisés :  pizza_ingredients\n",
      "Garlic               27422\n",
      "Tomatoes             26601\n",
      "Red Onions           19547\n",
      "Red Peppers          16284\n",
      "Mozzarella Cheese    10333\n",
      "Pepperoni            10300\n",
      "Spinach              10012\n",
      "Mushrooms             9624\n",
      "Chicken               8443\n",
      "Capocollo             6572\n",
      "Name: count, dtype: int64\n"
     ]
    }
   ],
   "source": [
    "# Utiliser explode pour séparer les listes d'ingrédients\n",
    "df_exploded = df['pizza_ingredients'].str.split(', ').explode()\n",
    "\n",
    "# Utiliser value_counts pour compter les occurrences de chaque ingrédient\n",
    "ingredient_counts = df_exploded.value_counts()\n",
    "\n",
    "# Afficher les résultats\n",
    "print(\"Top 5 des ingrédients les plus utilisés : \",ingredient_counts[:10])"
   ]
  },
  {
   "cell_type": "markdown",
   "id": "39df0448",
   "metadata": {},
   "source": [
    "### b. Combien de pizzas contiennent un ingrédient spécifique (par exemple,pepperoni, champignons) ?"
   ]
  },
  {
   "cell_type": "code",
   "execution_count": 171,
   "id": "93b6cb6b",
   "metadata": {},
   "outputs": [
    {
     "name": "stdout",
     "output_type": "stream",
     "text": [
      "Nombre de pizza(s): 20\n",
      "Liste des noms de pizzas contenant Garlic : ['The Five Cheese Pizza' 'The Italian Supreme Pizza' 'The Mexicana Pizza'\n",
      " 'The Greek Pizza' 'The Spinach Supreme Pizza'\n",
      " 'The Italian Capocollo Pizza' 'The Spicy Italian Pizza'\n",
      " 'The Spinach Pesto Pizza' 'The Vegetables + Vegetables Pizza'\n",
      " 'The California Chicken Pizza' 'The Chicken Pesto Pizza'\n",
      " 'The Soppressata Pizza' 'The Four Cheese Pizza' 'The Napolitana Pizza'\n",
      " 'The Calabrese Pizza' 'The Italian Vegetables Pizza'\n",
      " 'The Pepper Salami Pizza' 'The Spinach and Feta Pizza'\n",
      " 'The Sicilian Pizza' 'The Brie Carre Pizza']\n"
     ]
    }
   ],
   "source": [
    "ingredient = 'Garlic'\n",
    "result = df.loc[df['pizza_ingredients'].str.contains(ingredient)]\n",
    "unique_pizza_names = result['pizza_name'].unique()\n",
    "print(\"Nombre de pizza(s):\",result['pizza_name'].nunique())\n",
    "print(\"Liste des noms de pizzas contenant\",ingredient,\":\", unique_pizza_names)"
   ]
  },
  {
   "cell_type": "markdown",
   "id": "b961f22f",
   "metadata": {},
   "source": [
    "## 8. Détails de la commande :\n",
    "### a. Quelle est la répartition du nombre de pizzas par commande ?"
   ]
  },
  {
   "cell_type": "code",
   "execution_count": 172,
   "id": "767ec964",
   "metadata": {},
   "outputs": [
    {
     "data": {
      "text/plain": [
       "quantity\n",
       "1     0.37991\n",
       "2     0.28815\n",
       "3     0.15021\n",
       "4     0.14623\n",
       "5     0.00679\n",
       "6     0.00375\n",
       "8     0.00314\n",
       "14    0.00309\n",
       "9     0.00300\n",
       "7     0.00286\n",
       "15    0.00267\n",
       "10    0.00262\n",
       "11    0.00262\n",
       "12    0.00253\n",
       "13    0.00234\n",
       "25    0.00005\n",
       "28    0.00005\n",
       "Name: proportion, dtype: float64"
      ]
     },
     "execution_count": 172,
     "metadata": {},
     "output_type": "execute_result"
    }
   ],
   "source": [
    "round(df.groupby('order_id')['quantity'].sum().value_counts(normalize=True),5)"
   ]
  },
  {
   "cell_type": "markdown",
   "id": "c4d3741f",
   "metadata": {},
   "source": [
    "### b. Quelle est la répartition des prix totaux pour les commandes ?"
   ]
  },
  {
   "cell_type": "code",
   "execution_count": 173,
   "id": "daca7301",
   "metadata": {},
   "outputs": [
    {
     "data": {
      "text/plain": [
       "total_price\n",
       "20.75     0.06763\n",
       "12.00     0.04323\n",
       "16.00     0.03560\n",
       "16.50     0.03358\n",
       "16.75     0.03326\n",
       "           ...   \n",
       "248.00    0.00005\n",
       "135.75    0.00005\n",
       "213.20    0.00005\n",
       "115.20    0.00005\n",
       "203.45    0.00005\n",
       "Name: proportion, Length: 1113, dtype: float64"
      ]
     },
     "execution_count": 173,
     "metadata": {},
     "output_type": "execute_result"
    }
   ],
   "source": [
    "round(df.groupby('order_id')['total_price'].sum().value_counts(normalize=True),5)"
   ]
  },
  {
   "cell_type": "markdown",
   "id": "e903c025",
   "metadata": {},
   "source": [
    "## 9. Analyse du chiffre d’affaires en fonction du temps :\n",
    "### a. Quel est le chiffre d'affaires quotidien ?"
   ]
  },
  {
   "cell_type": "code",
   "execution_count": 174,
   "id": "b6d76e64",
   "metadata": {
    "scrolled": true
   },
   "outputs": [
    {
     "data": {
      "text/plain": [
       "order_date\n",
       "2015-01-01    2713.85\n",
       "2015-01-02    2731.90\n",
       "2015-01-03    2662.40\n",
       "2015-01-04    1755.45\n",
       "2015-01-05    2065.95\n",
       "               ...   \n",
       "2015-12-27    1419.00\n",
       "2015-12-28    1637.20\n",
       "2015-12-29    1353.25\n",
       "2015-12-30    1337.80\n",
       "2015-12-31    2916.00\n",
       "Name: total_price, Length: 358, dtype: float64"
      ]
     },
     "execution_count": 174,
     "metadata": {},
     "output_type": "execute_result"
    }
   ],
   "source": [
    "df.groupby(['order_date'])['total_price'].sum()"
   ]
  },
  {
   "cell_type": "markdown",
   "id": "7edce82d",
   "metadata": {},
   "source": [
    "### b. Y a-t-il une corrélation entre l'heure de la journée et le total de la commande ?"
   ]
  },
  {
   "cell_type": "markdown",
   "id": "6c60b669",
   "metadata": {},
   "source": [
    "Pour pouvoir vérifier si l'heure est corrélée au montant du chiffre d'affaires de la journée, il faut effectuer un test de corrélation.  \n",
    "Dans notre cas, je vais extraire les heures de la colonne **order_time** et réaliser une ANOVA (Analyse de la variance)."
   ]
  },
  {
   "cell_type": "code",
   "execution_count": 175,
   "id": "f661b146",
   "metadata": {},
   "outputs": [],
   "source": [
    "df['hours'] = df['order_time'].dt.hour"
   ]
  },
  {
   "cell_type": "code",
   "execution_count": 176,
   "id": "053c2ec9",
   "metadata": {
    "scrolled": true
   },
   "outputs": [
    {
     "data": {
      "text/plain": [
       "hours\n",
       "9         83.00\n",
       "10       303.65\n",
       "11     44935.80\n",
       "12    111877.90\n",
       "13    106065.70\n",
       "14     59201.40\n",
       "15     52992.30\n",
       "16     70055.40\n",
       "17     86237.45\n",
       "18     89296.85\n",
       "19     72628.90\n",
       "20     58215.40\n",
       "21     42029.80\n",
       "22     22815.15\n",
       "23      1121.35\n",
       "Name: total_price, dtype: float64"
      ]
     },
     "execution_count": 176,
     "metadata": {},
     "output_type": "execute_result"
    }
   ],
   "source": [
    "df.groupby('hours')['total_price'].sum()"
   ]
  },
  {
   "cell_type": "code",
   "execution_count": 187,
   "id": "ee639c94",
   "metadata": {},
   "outputs": [
    {
     "data": {
      "text/plain": [
       "hours\n",
       "9        4\n",
       "10      17\n",
       "11    2672\n",
       "12    6543\n",
       "13    6203\n",
       "14    3521\n",
       "15    3170\n",
       "16    4185\n",
       "17    5143\n",
       "18    5359\n",
       "19    4350\n",
       "20    3487\n",
       "21    2528\n",
       "22    1370\n",
       "23      68\n",
       "Name: order_id, dtype: int64"
      ]
     },
     "execution_count": 187,
     "metadata": {},
     "output_type": "execute_result"
    }
   ],
   "source": [
    "df.groupby('hours')['order_id'].count()"
   ]
  },
  {
   "cell_type": "code",
   "execution_count": 190,
   "id": "ebaa4377",
   "metadata": {
    "scrolled": false
   },
   "outputs": [
    {
     "data": {
      "text/plain": [
       "<Axes: xlabel='hours', ylabel='order_id'>"
      ]
     },
     "execution_count": 190,
     "metadata": {},
     "output_type": "execute_result"
    },
    {
     "data": {
      "image/png": "[encoded data removed]",
      "text/plain": [
       "<Figure size 640x480 with 1 Axes>"
      ]
     },
     "metadata": {},
     "output_type": "display_data"
    }
   ],
   "source": [
    "sns.boxplot(data=df,x=df['hours'],y=df['order_id'])"
   ]
  },
  {
   "cell_type": "markdown",
   "id": "b5a6767a",
   "metadata": {},
   "source": [
    "Le boxplot montre à première vue très peu de variance entre les heures excepté pour la plage de 9h.  \n",
    "Pour confirmer cette hypothèse je réalise une **Anova (Analyse de la variance)** avec la librairie *statsmodels*"
   ]
  },
  {
   "cell_type": "code",
   "execution_count": 194,
   "id": "15e9e7d4",
   "metadata": {},
   "outputs": [
    {
     "name": "stdout",
     "output_type": "stream",
     "text": [
      "                            OLS Regression Results                            \n",
      "==============================================================================\n",
      "Dep. Variable:               order_id   R-squared:                       0.001\n",
      "Model:                            OLS   Adj. R-squared:                  0.001\n",
      "Method:                 Least Squares   F-statistic:                     5.144\n",
      "Date:                Thu, 25 Jan 2024   Prob (F-statistic):           8.44e-10\n",
      "Time:                        11:33:43   Log-Likelihood:            -4.9336e+05\n",
      "No. Observations:               48620   AIC:                         9.868e+05\n",
      "Df Residuals:                   48605   BIC:                         9.869e+05\n",
      "Df Model:                          14                                         \n",
      "Covariance Type:            nonrobust                                         \n",
      "===============================================================================\n",
      "                  coef    std err          t      P>|t|      [0.025      0.975]\n",
      "-------------------------------------------------------------------------------\n",
      "Intercept    1.918e+04   3088.218      6.209      0.000    1.31e+04    2.52e+04\n",
      "hours[T.10] -1.053e+04   3432.362     -3.067      0.002   -1.73e+04   -3798.056\n",
      "hours[T.11] -8264.3683   3090.528     -2.674      0.007   -1.43e+04   -2206.893\n",
      "hours[T.12] -8590.0423   3089.162     -2.781      0.005   -1.46e+04   -2535.246\n",
      "hours[T.13] -8349.6000   3089.213     -2.703      0.007   -1.44e+04   -2294.703\n",
      "hours[T.14] -8967.3811   3089.971     -2.902      0.004    -1.5e+04   -2910.998\n",
      "hours[T.15] -8209.0375   3090.165     -2.657      0.008   -1.43e+04   -2152.274\n",
      "hours[T.16] -8460.0002   3089.693     -2.738      0.006   -1.45e+04   -2404.162\n",
      "hours[T.17] -8805.2885   3089.418     -2.850      0.004   -1.49e+04   -2749.989\n",
      "hours[T.18] -8299.4197   3089.370     -2.686      0.007   -1.44e+04   -2244.215\n",
      "hours[T.19] -8462.6618   3089.637     -2.739      0.006   -1.45e+04   -2406.933\n",
      "hours[T.20] -8424.2742   3089.988     -2.726      0.006   -1.45e+04   -2367.857\n",
      "hours[T.21] -8368.4968   3090.660     -2.708      0.007   -1.44e+04   -2310.764\n",
      "hours[T.22] -8154.7526   3092.723     -2.637      0.008   -1.42e+04   -2092.976\n",
      "hours[T.23] -7249.2647   3177.750     -2.281      0.023   -1.35e+04   -1020.834\n",
      "==============================================================================\n",
      "Omnibus:                    46128.392   Durbin-Watson:                   0.000\n",
      "Prob(Omnibus):                  0.000   Jarque-Bera (JB):             2953.315\n",
      "Skew:                          -0.003   Prob(JB):                         0.00\n",
      "Kurtosis:                       1.793   Cond. No.                         447.\n",
      "==============================================================================\n",
      "\n",
      "Notes:\n",
      "[1] Standard Errors assume that the covariance matrix of the errors is correctly specified.\n"
     ]
    }
   ],
   "source": [
    "# Seuil de signification fixé à 0,05 %\n",
    "df[\"hours\"] = df[\"hours\"].astype(\"category\")\n",
    "anova = smf.ols('order_id~hours',data=df).fit()\n",
    "print(anova.summary())"
   ]
  },
  {
   "cell_type": "markdown",
   "id": "943d3330",
   "metadata": {},
   "source": [
    "**Le test de corrélation indique qu'il ne semble pas y avoir de corrélation entre le chiffre d'affaire et l'heure de la journée si ce n'est pas la tranche de 9h. La p-value est supérieure au seuil de 0.05% et le R² est de 0.002 et de ce fait on ne peut pas rejeter l'hypothèse H0 (les variances sont égales).**"
   ]
  },
  {
   "cell_type": "markdown",
   "id": "9f31c8d3",
   "metadata": {},
   "source": [
    "## 10.Pizzas populaires :\n",
    "### a. Quelles sont les 5 pizzas les plus commandées en quantité ?"
   ]
  },
  {
   "cell_type": "code",
   "execution_count": 38,
   "id": "35229325",
   "metadata": {},
   "outputs": [
    {
     "data": {
      "text/plain": [
       "pizza_category  pizza_name                pizza_size\n",
       "Classic         The Big Meat Pizza        S             1811\n",
       "Chicken         The Thai Chicken Pizza    L             1365\n",
       "Veggie          The Five Cheese Pizza     L             1359\n",
       "                The Four Cheese Pizza     L             1273\n",
       "Classic         The Classic Deluxe Pizza  M             1159\n",
       "Name: quantity, dtype: int64"
      ]
     },
     "execution_count": 38,
     "metadata": {},
     "output_type": "execute_result"
    }
   ],
   "source": [
    "df.groupby(['pizza_category','pizza_name','pizza_size'])['quantity'].count().sort_values(ascending=False)[:5]\n"
   ]
  },
  {
   "cell_type": "markdown",
   "id": "c6dbfc87",
   "metadata": {},
   "source": [
    "### b. Quelles sont les 5 pizzas les plus commandées en termes de chiffre d'affaires ?"
   ]
  },
  {
   "cell_type": "code",
   "execution_count": 39,
   "id": "3ebe36b7",
   "metadata": {},
   "outputs": [
    {
     "data": {
      "text/plain": [
       "pizza_category  pizza_name               pizza_size\n",
       "Chicken         The Thai Chicken Pizza   L             28323.75\n",
       "Veggie          The Five Cheese Pizza    L             25141.50\n",
       "                The Four Cheese Pizza    L             22850.35\n",
       "Supreme         The Spicy Italian Pizza  L             22576.00\n",
       "Classic         The Big Meat Pizza       S             21732.00\n",
       "Name: unit_price, dtype: float64"
      ]
     },
     "execution_count": 39,
     "metadata": {},
     "output_type": "execute_result"
    }
   ],
   "source": [
    "df.groupby(['pizza_category','pizza_name','pizza_size'])['unit_price'].sum().sort_values(ascending=False)[:5]"
   ]
  },
  {
   "cell_type": "markdown",
   "id": "8ed7860a",
   "metadata": {},
   "source": [
    "## 11.Chiffre d'affaires par taille et catégorie :\n",
    " ### a. Quelle est la répartition du chiffre d'affaires pour chaque taille de pizza ?"
   ]
  },
  {
   "cell_type": "code",
   "execution_count": 40,
   "id": "f7be8f2c",
   "metadata": {},
   "outputs": [
    {
     "data": {
      "text/plain": [
       "Index(['order_details_id', 'order_id', 'pizza_id', 'quantity', 'order_date',\n",
       "       'order_time', 'unit_price', 'total_price', 'pizza_size',\n",
       "       'pizza_category', 'pizza_ingredients', 'pizza_name', 'year', 'month',\n",
       "       'day', 'combined_datetime', 'time_difference', 'hours', 'hours_cat'],\n",
       "      dtype='object')"
      ]
     },
     "execution_count": 40,
     "metadata": {},
     "output_type": "execute_result"
    }
   ],
   "source": [
    "df.columns"
   ]
  },
  {
   "cell_type": "code",
   "execution_count": 41,
   "id": "d3525c1a",
   "metadata": {},
   "outputs": [
    {
     "data": {
      "text/plain": [
       "pizza_size\n",
       "L      366862.1\n",
       "M      245409.5\n",
       "S      174794.5\n",
       "XL      13872.0\n",
       "XXL      1006.6\n",
       "Name: unit_price, dtype: float64"
      ]
     },
     "execution_count": 41,
     "metadata": {},
     "output_type": "execute_result"
    }
   ],
   "source": [
    "df.groupby(['pizza_size'])['unit_price'].sum().sort_values(ascending=False)"
   ]
  },
  {
   "cell_type": "markdown",
   "id": "fa797e79",
   "metadata": {},
   "source": [
    "### b. Quelle est la répartition du chiffre d'affaires pour chaque catégorie de pizza ?"
   ]
  },
  {
   "cell_type": "code",
   "execution_count": 42,
   "id": "e1b6bba5",
   "metadata": {},
   "outputs": [
    {
     "data": {
      "text/plain": [
       "pizza_category\n",
       "Classic    215732.60\n",
       "Supreme    204486.75\n",
       "Chicken    191527.25\n",
       "Veggie     190198.10\n",
       "Name: unit_price, dtype: float64"
      ]
     },
     "execution_count": 42,
     "metadata": {},
     "output_type": "execute_result"
    }
   ],
   "source": [
    "df.groupby(['pizza_category'])['unit_price'].sum().sort_values(ascending=False)"
   ]
  },
  {
   "cell_type": "markdown",
   "id": "9228694f",
   "metadata": {},
   "source": [
    "## 12.Corrélation entre prix et quantité :\n",
    "### a. Y a-t-il une corrélation entre le prix unitaire et la quantité commandée ?"
   ]
  },
  {
   "cell_type": "markdown",
   "id": "92f82992",
   "metadata": {},
   "source": [
    "Formulation de l'hypothèse :\n",
    "\n",
    "* H0 = les variances sont égales\n",
    "* H1 = les variances ne sont pas égales\n",
    "\n",
    "Définition du niveau de signification : \n",
    "\n",
    "*  alpha = 0.05%\n",
    "\n",
    "J'utilise à nouveau l'ANOVA pour réaliser ce test de corrélation."
   ]
  },
  {
   "cell_type": "code",
   "execution_count": 43,
   "id": "45e60e67",
   "metadata": {},
   "outputs": [
    {
     "data": {
      "text/plain": [
       "array([1, 2, 3, 4], dtype=int64)"
      ]
     },
     "execution_count": 43,
     "metadata": {},
     "output_type": "execute_result"
    }
   ],
   "source": [
    "df['quantity'].unique()"
   ]
  },
  {
   "cell_type": "code",
   "execution_count": 44,
   "id": "2bbb0de8",
   "metadata": {},
   "outputs": [
    {
     "data": {
      "text/plain": [
       "<Axes: xlabel='quantity', ylabel='unit_price'>"
      ]
     },
     "execution_count": 44,
     "metadata": {},
     "output_type": "execute_result"
    },
    {
     "data": {
      "image/png": "[encoded data removed]",
      "text/plain": [
       "<Figure size 640x480 with 1 Axes>"
      ]
     },
     "metadata": {},
     "output_type": "display_data"
    }
   ],
   "source": [
    "sns.boxplot(data=df,x=df['quantity'],y=df['unit_price'])"
   ]
  },
  {
   "cell_type": "code",
   "execution_count": 45,
   "id": "2837364b",
   "metadata": {},
   "outputs": [
    {
     "name": "stdout",
     "output_type": "stream",
     "text": [
      "                            OLS Regression Results                            \n",
      "==============================================================================\n",
      "Dep. Variable:             unit_price   R-squared:                       0.000\n",
      "Model:                            OLS   Adj. R-squared:                  0.000\n",
      "Method:                 Least Squares   F-statistic:                     1.536\n",
      "Date:                Thu, 25 Jan 2024   Prob (F-statistic):              0.203\n",
      "Time:                        10:42:51   Log-Likelihood:            -1.3156e+05\n",
      "No. Observations:               48620   AIC:                         2.631e+05\n",
      "Df Residuals:                   48616   BIC:                         2.632e+05\n",
      "Df Model:                           3                                         \n",
      "Covariance Type:            nonrobust                                         \n",
      "=======================================================================================\n",
      "                          coef    std err          t      P>|t|      [0.025      0.975]\n",
      "---------------------------------------------------------------------------------------\n",
      "Intercept              16.4900      0.017    994.333      0.000      16.457      16.522\n",
      "quantity_categ[T.2]     0.2371      0.122      1.949      0.051      -0.001       0.476\n",
      "quantity_categ[T.3]    -0.3828      0.791     -0.484      0.628      -1.932       1.167\n",
      "quantity_categ[T.4]    -1.5733      2.091     -0.752      0.452      -5.672       2.525\n",
      "==============================================================================\n",
      "Omnibus:                     1564.283   Durbin-Watson:                   2.043\n",
      "Prob(Omnibus):                  0.000   Jarque-Bera (JB):              816.521\n",
      "Skew:                           0.127   Prob(JB):                    4.95e-178\n",
      "Kurtosis:                       2.419   Cond. No.                         127.\n",
      "==============================================================================\n",
      "\n",
      "Notes:\n",
      "[1] Standard Errors assume that the covariance matrix of the errors is correctly specified.\n"
     ]
    }
   ],
   "source": [
    "# Seuil de signification fixé à 0,05 %\n",
    "df[\"quantity_categ\"] = df[\"quantity\"].astype(\"category\")\n",
    "anova = smf.ols('unit_price~quantity_categ', data=df).fit()\n",
    "print(anova.summary())"
   ]
  },
  {
   "cell_type": "markdown",
   "id": "c220c0a4",
   "metadata": {},
   "source": [
    "Avec un R² à 0 et des p-values supérieures au seuil de 0.05%, **on ne peut pas rejeter l'hypothèse H0** et dire qu'il n'y a pas de corrélation entre le prix unitaire et la quantité commandée. "
   ]
  },
  {
   "cell_type": "markdown",
   "id": "b13faddf",
   "metadata": {},
   "source": [
    "### b. Quel est le prix unitaire moyen pour différentes tailles de pizza ?"
   ]
  },
  {
   "cell_type": "code",
   "execution_count": 46,
   "id": "1d4d101b",
   "metadata": {},
   "outputs": [
    {
     "data": {
      "text/plain": [
       "pizza_size\n",
       "L      19.802553\n",
       "M      15.951219\n",
       "S      12.364328\n",
       "XL     25.500000\n",
       "XXL    35.950000\n",
       "Name: unit_price, dtype: float64"
      ]
     },
     "execution_count": 46,
     "metadata": {},
     "output_type": "execute_result"
    }
   ],
   "source": [
    "df.groupby('pizza_size')['unit_price'].mean()"
   ]
  },
  {
   "cell_type": "markdown",
   "id": "70b6134e",
   "metadata": {},
   "source": [
    "## 13.Tendances saisonnières :\n",
    "### a. Y a-t-il des tendances saisonnières dans les commandes de pizza ?"
   ]
  },
  {
   "cell_type": "code",
   "execution_count": 47,
   "id": "8af31d23",
   "metadata": {},
   "outputs": [
    {
     "data": {
      "text/plain": [
       "Index(['order_details_id', 'order_id', 'pizza_id', 'quantity', 'order_date',\n",
       "       'order_time', 'unit_price', 'total_price', 'pizza_size',\n",
       "       'pizza_category', 'pizza_ingredients', 'pizza_name', 'year', 'month',\n",
       "       'day', 'combined_datetime', 'time_difference', 'hours', 'hours_cat',\n",
       "       'quantity_categ'],\n",
       "      dtype='object')"
      ]
     },
     "execution_count": 47,
     "metadata": {},
     "output_type": "execute_result"
    }
   ],
   "source": [
    "df.columns"
   ]
  },
  {
   "cell_type": "code",
   "execution_count": 48,
   "id": "ad3b163d",
   "metadata": {},
   "outputs": [],
   "source": [
    "df['quarter'] = df['order_date'].dt.quarter"
   ]
  },
  {
   "cell_type": "code",
   "execution_count": 72,
   "id": "0e7fe7fa",
   "metadata": {},
   "outputs": [
    {
     "data": {
      "text/plain": [
       "['Thursday', 'Friday', NaN, 'Tuesday', 'Wednesday']\n",
       "Categories (7, object): ['Monday' < 'Tuesday' < 'Wednesday' < 'Thursday' < 'Friday' < 'Saturday' < 'Sunday']"
      ]
     },
     "execution_count": 72,
     "metadata": {},
     "output_type": "execute_result"
    }
   ],
   "source": [
    "df['day'].unique()"
   ]
  },
  {
   "cell_type": "code",
   "execution_count": 49,
   "id": "37a63726",
   "metadata": {},
   "outputs": [],
   "source": [
    "dict = {1 : 'Hiver', 2 : 'Printemps', 3: 'Ete', 4 : 'Automne'}\n",
    "df = df.replace({\"quarter\": dict})"
   ]
  },
  {
   "cell_type": "code",
   "execution_count": 50,
   "id": "1524311c",
   "metadata": {},
   "outputs": [
    {
     "data": {
      "text/plain": [
       "pizza_name                  \n",
       "The Barbecue Chicken Pizza      622\n",
       "The Pepperoni Pizza             620\n",
       "The Hawaiian Pizza              588\n",
       "The California Chicken Pizza    583\n",
       "The Thai Chicken Pizza          571\n",
       "The Classic Deluxe Pizza        562\n",
       "The Sicilian Pizza              489\n",
       "The Four Cheese Pizza           470\n",
       "The Southwest Chicken Pizza     463\n",
       "The Spicy Italian Pizza         461\n",
       "Name: count, dtype: int64"
      ]
     },
     "execution_count": 50,
     "metadata": {},
     "output_type": "execute_result"
    }
   ],
   "source": [
    "df.loc[df['quarter']=='Hiver'][['pizza_name']].value_counts()[:10]"
   ]
  },
  {
   "cell_type": "code",
   "execution_count": 51,
   "id": "7f22c990",
   "metadata": {},
   "outputs": [
    {
     "data": {
      "text/plain": [
       "pizza_name                  \n",
       "The Classic Deluxe Pizza        622\n",
       "The Barbecue Chicken Pizza      616\n",
       "The Hawaiian Pizza              592\n",
       "The California Chicken Pizza    581\n",
       "The Pepperoni Pizza             564\n",
       "The Thai Chicken Pizza          564\n",
       "The Italian Supreme Pizza       506\n",
       "The Spicy Italian Pizza         492\n",
       "The Four Cheese Pizza           480\n",
       "The Southwest Chicken Pizza     465\n",
       "Name: count, dtype: int64"
      ]
     },
     "execution_count": 51,
     "metadata": {},
     "output_type": "execute_result"
    }
   ],
   "source": [
    "df.loc[df['quarter']=='Printemps'][['pizza_name']].value_counts()[:10]"
   ]
  },
  {
   "cell_type": "code",
   "execution_count": 52,
   "id": "71389b15",
   "metadata": {},
   "outputs": [
    {
     "data": {
      "text/plain": [
       "pizza_name                  \n",
       "The Classic Deluxe Pizza        628\n",
       "The Pepperoni Pizza             625\n",
       "The Thai Chicken Pizza          591\n",
       "The Barbecue Chicken Pizza      589\n",
       "The Hawaiian Pizza              582\n",
       "The California Chicken Pizza    578\n",
       "The Southwest Chicken Pizza     498\n",
       "The Spicy Italian Pizza         469\n",
       "The Big Meat Pizza              458\n",
       "The Sicilian Pizza              447\n",
       "Name: count, dtype: int64"
      ]
     },
     "execution_count": 52,
     "metadata": {},
     "output_type": "execute_result"
    }
   ],
   "source": [
    "df.loc[df['quarter']=='Ete'][['pizza_name']].value_counts()[:10]"
   ]
  },
  {
   "cell_type": "code",
   "execution_count": 53,
   "id": "4a763202",
   "metadata": {},
   "outputs": [
    {
     "data": {
      "text/plain": [
       "pizza_name                  \n",
       "The Hawaiian Pizza              608\n",
       "The Classic Deluxe Pizza        604\n",
       "The Thai Chicken Pizza          589\n",
       "The California Chicken Pizza    560\n",
       "The Pepperoni Pizza             560\n",
       "The Barbecue Chicken Pizza      545\n",
       "The Sicilian Pizza              494\n",
       "The Spicy Italian Pizza         465\n",
       "The Four Cheese Pizza           461\n",
       "The Southwest Chicken Pizza     459\n",
       "Name: count, dtype: int64"
      ]
     },
     "execution_count": 53,
     "metadata": {},
     "output_type": "execute_result"
    }
   ],
   "source": [
    "df.loc[df['quarter']=='Automne'][['pizza_name']].value_counts()[:10]"
   ]
  },
  {
   "cell_type": "markdown",
   "id": "652b90fa",
   "metadata": {},
   "source": [
    "### b. Y a-t-il une corrélation entre le jour de la semaine et la quantité de commandes ?"
   ]
  },
  {
   "cell_type": "markdown",
   "id": "94856c1c",
   "metadata": {},
   "source": [
    "Pour savoir s'il y a une corrélation entre une le jour de la semaine et la quantité de commandes"
   ]
  },
  {
   "cell_type": "code",
   "execution_count": 54,
   "id": "5ac6990a",
   "metadata": {},
   "outputs": [
    {
     "data": {
      "text/plain": [
       "Index(['order_details_id', 'order_id', 'pizza_id', 'quantity', 'order_date',\n",
       "       'order_time', 'unit_price', 'total_price', 'pizza_size',\n",
       "       'pizza_category', 'pizza_ingredients', 'pizza_name', 'year', 'month',\n",
       "       'day', 'combined_datetime', 'time_difference', 'hours', 'hours_cat',\n",
       "       'quantity_categ', 'quarter'],\n",
       "      dtype='object')"
      ]
     },
     "execution_count": 54,
     "metadata": {},
     "output_type": "execute_result"
    }
   ],
   "source": [
    "df.columns"
   ]
  },
  {
   "cell_type": "code",
   "execution_count": 68,
   "id": "6dfc0049",
   "metadata": {},
   "outputs": [
    {
     "data": {
      "text/html": [
       "<div>\n",
       "<style scoped>\n",
       "    .dataframe tbody tr th:only-of-type {\n",
       "        vertical-align: middle;\n",
       "    }\n",
       "\n",
       "    .dataframe tbody tr th {\n",
       "        vertical-align: top;\n",
       "    }\n",
       "\n",
       "    .dataframe thead th {\n",
       "        text-align: right;\n",
       "    }\n",
       "</style>\n",
       "<table border=\"1\" class=\"dataframe\">\n",
       "  <thead>\n",
       "    <tr style=\"text-align: right;\">\n",
       "      <th></th>\n",
       "      <th>day</th>\n",
       "      <th>quantity</th>\n",
       "    </tr>\n",
       "  </thead>\n",
       "  <tbody>\n",
       "    <tr>\n",
       "      <th>0</th>\n",
       "      <td>Monday</td>\n",
       "      <td>0</td>\n",
       "    </tr>\n",
       "    <tr>\n",
       "      <th>1</th>\n",
       "      <td>Tuesday</td>\n",
       "      <td>6895</td>\n",
       "    </tr>\n",
       "    <tr>\n",
       "      <th>2</th>\n",
       "      <td>Wednesday</td>\n",
       "      <td>6946</td>\n",
       "    </tr>\n",
       "    <tr>\n",
       "      <th>3</th>\n",
       "      <td>Thursday</td>\n",
       "      <td>7478</td>\n",
       "    </tr>\n",
       "    <tr>\n",
       "      <th>4</th>\n",
       "      <td>Friday</td>\n",
       "      <td>8242</td>\n",
       "    </tr>\n",
       "    <tr>\n",
       "      <th>5</th>\n",
       "      <td>Saturday</td>\n",
       "      <td>0</td>\n",
       "    </tr>\n",
       "    <tr>\n",
       "      <th>6</th>\n",
       "      <td>Sunday</td>\n",
       "      <td>0</td>\n",
       "    </tr>\n",
       "  </tbody>\n",
       "</table>\n",
       "</div>"
      ],
      "text/plain": [
       "         day  quantity\n",
       "0     Monday         0\n",
       "1    Tuesday      6895\n",
       "2  Wednesday      6946\n",
       "3   Thursday      7478\n",
       "4     Friday      8242\n",
       "5   Saturday         0\n",
       "6     Sunday         0"
      ]
     },
     "execution_count": 68,
     "metadata": {},
     "output_type": "execute_result"
    }
   ],
   "source": [
    "df_day = df.groupby('day')['quantity'].sum().reset_index()\n",
    "df_day"
   ]
  },
  {
   "cell_type": "code",
   "execution_count": 63,
   "id": "2e4efcff",
   "metadata": {},
   "outputs": [],
   "source": [
    "df['day'] = pd.Categorical(df['day'], ordered=True)"
   ]
  },
  {
   "cell_type": "code",
   "execution_count": 65,
   "id": "97f5f7bc",
   "metadata": {},
   "outputs": [],
   "source": [
    "df_day['day']= pd.Categorical(df_day['day'], ordered=True)"
   ]
  },
  {
   "cell_type": "code",
   "execution_count": 66,
   "id": "0710ff60",
   "metadata": {},
   "outputs": [
    {
     "name": "stdout",
     "output_type": "stream",
     "text": [
      "                            OLS Regression Results                            \n",
      "==============================================================================\n",
      "Dep. Variable:               quantity   R-squared:                       1.000\n",
      "Model:                            OLS   Adj. R-squared:                    nan\n",
      "Method:                 Least Squares   F-statistic:                       nan\n",
      "Date:                Thu, 25 Jan 2024   Prob (F-statistic):                nan\n",
      "Time:                        10:48:07   Log-Likelihood:                 175.10\n",
      "No. Observations:                   7   AIC:                            -336.2\n",
      "Df Residuals:                       0   BIC:                            -336.6\n",
      "Df Model:                           6                                         \n",
      "Covariance Type:            nonrobust                                         \n",
      "====================================================================================\n",
      "                       coef    std err          t      P>|t|      [0.025      0.975]\n",
      "------------------------------------------------------------------------------------\n",
      "Intercept         8106.0000        inf          0        nan         nan         nan\n",
      "day[T.Monday]    -1737.0000        inf         -0        nan         nan         nan\n",
      "day[T.Saturday]   -751.0000        inf         -0        nan         nan         nan\n",
      "day[T.Sunday]    -2189.0000        inf         -0        nan         nan         nan\n",
      "day[T.Thursday]   -783.0000        inf         -0        nan         nan         nan\n",
      "day[T.Tuesday]   -1353.0000        inf         -0        nan         nan         nan\n",
      "day[T.Wednesday] -1309.0000        inf         -0        nan         nan         nan\n",
      "==============================================================================\n",
      "Omnibus:                          nan   Durbin-Watson:                   0.097\n",
      "Prob(Omnibus):                    nan   Jarque-Bera (JB):                2.167\n",
      "Skew:                           1.358   Prob(JB):                        0.338\n",
      "Kurtosis:                       3.234   Cond. No.                         7.87\n",
      "==============================================================================\n",
      "\n",
      "Notes:\n",
      "[1] Standard Errors assume that the covariance matrix of the errors is correctly specified.\n"
     ]
    },
    {
     "name": "stderr",
     "output_type": "stream",
     "text": [
      "C:\\Users\\sarah\\anaconda3\\Lib\\site-packages\\statsmodels\\stats\\stattools.py:74: ValueWarning: omni_normtest is not valid with less than 8 observations; 7 samples were given.\n",
      "  warn(\"omni_normtest is not valid with less than 8 observations; %i \"\n",
      "C:\\Users\\sarah\\anaconda3\\Lib\\site-packages\\statsmodels\\regression\\linear_model.py:1794: RuntimeWarning: divide by zero encountered in divide\n",
      "  return 1 - (np.divide(self.nobs - self.k_constant, self.df_resid)\n",
      "C:\\Users\\sarah\\anaconda3\\Lib\\site-packages\\statsmodels\\regression\\linear_model.py:1794: RuntimeWarning: invalid value encountered in scalar multiply\n",
      "  return 1 - (np.divide(self.nobs - self.k_constant, self.df_resid)\n",
      "C:\\Users\\sarah\\anaconda3\\Lib\\site-packages\\statsmodels\\regression\\linear_model.py:1716: RuntimeWarning: divide by zero encountered in scalar divide\n",
      "  return np.dot(wresid, wresid) / self.df_resid\n"
     ]
    }
   ],
   "source": [
    "# Seuil de signification fixé à 0,05 %\n",
    "\n",
    "anova = smf.ols('quantity~day', data=df_day).fit()\n",
    "print(anova.summary())"
   ]
  },
  {
   "cell_type": "markdown",
   "id": "f3b1ffc0",
   "metadata": {},
   "source": [
    "D'après les résultats, avec un **R² à 0** et **des p-values supérieures au seuil de 0.05%** nous ne pouvons pas rejeter l'hypothèse H0 (les variances sont égales)."
   ]
  },
  {
   "cell_type": "code",
   "execution_count": 67,
   "id": "e758a65c",
   "metadata": {},
   "outputs": [
    {
     "data": {
      "text/html": [
       "<div>\n",
       "<style scoped>\n",
       "    .dataframe tbody tr th:only-of-type {\n",
       "        vertical-align: middle;\n",
       "    }\n",
       "\n",
       "    .dataframe tbody tr th {\n",
       "        vertical-align: top;\n",
       "    }\n",
       "\n",
       "    .dataframe thead th {\n",
       "        text-align: right;\n",
       "    }\n",
       "</style>\n",
       "<table border=\"1\" class=\"dataframe\">\n",
       "  <thead>\n",
       "    <tr style=\"text-align: right;\">\n",
       "      <th></th>\n",
       "      <th>day</th>\n",
       "      <th>quantity</th>\n",
       "    </tr>\n",
       "  </thead>\n",
       "  <tbody>\n",
       "    <tr>\n",
       "      <th>0</th>\n",
       "      <td>Friday</td>\n",
       "      <td>8106</td>\n",
       "    </tr>\n",
       "    <tr>\n",
       "      <th>1</th>\n",
       "      <td>Monday</td>\n",
       "      <td>6369</td>\n",
       "    </tr>\n",
       "    <tr>\n",
       "      <th>2</th>\n",
       "      <td>Saturday</td>\n",
       "      <td>7355</td>\n",
       "    </tr>\n",
       "    <tr>\n",
       "      <th>3</th>\n",
       "      <td>Sunday</td>\n",
       "      <td>5917</td>\n",
       "    </tr>\n",
       "    <tr>\n",
       "      <th>4</th>\n",
       "      <td>Thursday</td>\n",
       "      <td>7323</td>\n",
       "    </tr>\n",
       "    <tr>\n",
       "      <th>5</th>\n",
       "      <td>Tuesday</td>\n",
       "      <td>6753</td>\n",
       "    </tr>\n",
       "    <tr>\n",
       "      <th>6</th>\n",
       "      <td>Wednesday</td>\n",
       "      <td>6797</td>\n",
       "    </tr>\n",
       "  </tbody>\n",
       "</table>\n",
       "</div>"
      ],
      "text/plain": [
       "         day  quantity\n",
       "0     Friday      8106\n",
       "1     Monday      6369\n",
       "2   Saturday      7355\n",
       "3     Sunday      5917\n",
       "4   Thursday      7323\n",
       "5    Tuesday      6753\n",
       "6  Wednesday      6797"
      ]
     },
     "execution_count": 67,
     "metadata": {},
     "output_type": "execute_result"
    }
   ],
   "source": [
    "df_day"
   ]
  },
  {
   "cell_type": "code",
   "execution_count": null,
   "id": "5d28dacd",
   "metadata": {},
   "outputs": [],
   "source": []
  }
 ],
 "metadata": {
  "kernelspec": {
   "display_name": "Python 3 (ipykernel)",
   "language": "python",
   "name": "python3"
  },
  "language_info": {
   "codemirror_mode": {
    "name": "ipython",
    "version": 3
   },
   "file_extension": ".py",
   "mimetype": "text/x-python",
   "name": "python",
   "nbconvert_exporter": "python",
   "pygments_lexer": "ipython3",
   "version": "3.11.5"
  },
  "nbTranslate": {
   "displayLangs": [
    "*"
   ],
   "hotkey": "alt-t",
   "langInMainMenu": true,
   "sourceLang": "en",
   "targetLang": "fr",
   "useGoogleTranslate": true
  }
 },
 "nbformat": 4,
 "nbformat_minor": 5
}
